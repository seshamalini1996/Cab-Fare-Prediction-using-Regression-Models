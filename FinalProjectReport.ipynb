{
 "cells": [
  {
   "cell_type": "markdown",
   "metadata": {},
   "source": [
    "# Cab Fare Prediction Using Regression Models"
   ]
  },
  {
   "cell_type": "markdown",
   "metadata": {},
   "source": [
    "*by Seshamalini Mohan\n",
    " CSUID : 835957648* \n"
   ]
  },
  {
   "cell_type": "markdown",
   "metadata": {},
   "source": [
    "## Motivation"
   ]
  },
  {
   "cell_type": "markdown",
   "metadata": {},
   "source": [
    "The subject of predictive analysis fascinates me since it thoroughly examines the data and offers the best forecast of what will occur in the future.The Regression model successfully predicts the future as they develop relationship between the variables.I therefore favor employing a regression model to predict fare prices."
   ]
  },
  {
   "cell_type": "markdown",
   "metadata": {},
   "source": [
    "## Introduction"
   ]
  },
  {
   "cell_type": "markdown",
   "metadata": {},
   "source": [
    "Uber and Lyft are the largest ride-hailing services which connects the local drivers with the customers. We see Machine Learning and Artificial Intelligence in practically every industry nowadays, therefore we aim to employ the same to forecast the cab journey pricing. In this project, we experimented on a real-world dataset to see how machine learning algorithms may be used to uncover different patterns in data. We mostly examined the price prediction of various Uber and Lyft cabs and how weather, temperature, wind, and other elements influence its cost. This problem falls into the regression supervised learning category. Linear Regression, Decision Tree, Random Forest Regressor, XGBoost, Gradient Boosting Regressor , CatBoostRegressor, BayesianRidge Regressor, ElasticNet Regressor , SGDRegressor and KNearestNeighborsRegressor were among the machine learning techniques employed. Finally, we select the one that performs the best in terms of cab ride pricing prediction. To achieve the best results, we chose an approach that boosts accuracy while decreasing overfitting. Out of all the algorithms we tested, we discovered that XGBoost had the best accuracy for price prediction. We have developed a program that predicts the cost of a cab ride based on the information provided by the user."
   ]
  },
  {
   "cell_type": "markdown",
   "metadata": {},
   "source": [
    "## Dataset Description"
   ]
  },
  {
   "cell_type": "markdown",
   "metadata": {},
   "source": [
    "I'm utilizing Kaggle's Uber and Lyft Dataset Boston, MA for my research. The collection has around 693071 distinct values. The dataset contains values for 55096 Uber XL, 55096 WAV, 55096 Black SUV, 55095 Uber Black, 55095 Taxi, 55094 UberX, 55091 UberPool, 51235 Lux, 51235 Lyft, 51235 Lux Black XL, 51235 Lyft XL, 51235 Lux Black, 51235 Lux Black, 51233 Lyft Shared car. The dataset includes humidity, wind speed, apparent Temperature Min, apparent Temperature Max, pressure, dewPoint, and other environmental element values that influence the cost of the journey. We are evaluating 299262 training values and 112225 testing values.\n",
    "\n",
    "Dataset link : https://www.kaggle.com/datasets/brllrb/uber-and-lyft-dataset-boston-ma?select=rideshare_kaggle.csv"
   ]
  },
  {
   "cell_type": "markdown",
   "metadata": {},
   "source": [
    "## Methods"
   ]
  },
  {
   "cell_type": "markdown",
   "metadata": {},
   "source": [
    "The dataset is trained uisng various regression models and the model with best accuracy used to predict the fare of the cab.\n",
    "The following are the regression methods used :\n",
    "- <b>XGBRegressor</b>: This algorithm creates a decision tree using a series of weights in sequentaial form . Each decision tree classifer accumulates to provide a precise model.\n",
    "- <b>Linear Regression</b>: A linear method for simulating the relationship between a scalar response and one or more explanatory variables is called linear regression. It is a statistical method for modeling the connection between the characteristics of the input and the output.\n",
    "- <b>Decision Tree Regression</b>: A decision tree is a tool for making decisions that has a tree structure that resembles a flowchart or is a model of options and every consequence that could occur, including outcomes, input costs, and utility. When processing tabular data with numerical or categorical features, this model performs exceptionally well.\n",
    "- <b>Gradient Boosting Regressor</b>: To provide the final predictions, this model aggregates the predictions from various decision trees. Each predictor in gradient boosting corrects the error of its predecessor.Gradient Boosting smoothly, additively, and sequentially trains several models.\n",
    "- <b>Random Forest Regressor</b>: Using several decision trees and a technique called Bootstrap and Aggregation, also referred to as bagging, a Random Forest is an ensemble methodology capable of completing regression and classification problems. Instead than relying just on a single decision tree to determine the outcome, the fundamental idea behind this is to integrate a number of decision trees.\n",
    "- <b>CatBoostRegressor</b>: CatBoost is based on decision tree and gradient boosting theory. The basic idea behind boosting is to successively integrate multiple weak models  and therefore produce a strong competitive prediction model through greedy search. Since gradient boosting aligns the decision trees in a proper sequence, the fitted trees will learn from the mistakes of previous trees, reducing errors. This procedure of incorporating new functions into old ones is repeated until the specified loss function is no longer minimized.\n",
    "- <b> BayesianRidge Regressor</b>:Bayesian Ridge regression, which calculates a probabilistic model of the regression issue, is one of the most useful types of Bayesian regression. By defining linear regression with probability distributions rather than point estimates, Bayesian regression allows a natural mechanism to survive limited or poorly distributed data. The output or answer 'y' is considered to be chosen from a probability distribution rather than assessed as a single number.\n",
    "- <b> Stochastic Gradient Descent Regressor </b>: Stochastic gradient descent is a straightforward but highly efficient method for fitting linear models. It is especially beneficial when the number of samples (and features) is quite huge. SGDClassifier and SGDRegressor classes include functionality for fitting linear models for classification and regression using various  loss functions and penalties.\n",
    "- <b> KNearestNeighborsRegressor </b>:The KNN regression predicts the values of new data points based on 'feature similarity.' This means that a value is assigned to the new point based on how closely it resembles the points in the training set. We know from our example that ID11 is the same height and age as ID1 and ID5, therefore the weight would be around the same.\n",
    "- <b> LGBMRegressor </b>: LightGBM is an open-source gradient boosting framework that is based on the tree learning technique and is aimed to handle data more quickly and accurately. It can handle massive datasets while using less memory and allows distributed learning.\n",
    "- <b>Elastic Net Regressor </b>: Elastic Net regression is a classification approach that overcomes the restrictions of the lasso method, which uses a penalty function in its L1 regularization. Elastic Net regression is a hybrid methodology that combines the L2 and L1 penalizations of the lasso and ridge methods.\n",
    "\n",
    "sklearn,seaborn,xgboost ,catboost and matplotlib are the libraries used."
   ]
  },
  {
   "cell_type": "markdown",
   "metadata": {},
   "source": [
    "## Importing Dependencies"
   ]
  },
  {
   "cell_type": "markdown",
   "metadata": {},
   "source": [
    "Installed for XGBoost Regression model execution "
   ]
  },
  {
   "cell_type": "code",
   "execution_count": 2,
   "metadata": {},
   "outputs": [
    {
     "name": "stdout",
     "output_type": "stream",
     "text": [
      "Requirement already satisfied: xgboost in c:\\users\\sesha\\anaconda3\\lib\\site-packages (1.6.2)Note: you may need to restart the kernel to use updated packages.\n",
      "\n",
      "Requirement already satisfied: scipy in c:\\users\\sesha\\anaconda3\\lib\\site-packages (from xgboost) (1.7.3)\n",
      "Requirement already satisfied: numpy in c:\\users\\sesha\\anaconda3\\lib\\site-packages (from xgboost) (1.21.5)\n"
     ]
    }
   ],
   "source": [
    "pip install xgboost"
   ]
  },
  {
   "cell_type": "markdown",
   "metadata": {},
   "source": [
    "Installed for LGBMRegressor model execution"
   ]
  },
  {
   "cell_type": "code",
   "execution_count": 3,
   "metadata": {},
   "outputs": [
    {
     "name": "stdout",
     "output_type": "stream",
     "text": [
      "Requirement already satisfied: lightgbm in c:\\users\\sesha\\anaconda3\\lib\\site-packages (3.3.3)\n",
      "Requirement already satisfied: wheel in c:\\users\\sesha\\anaconda3\\lib\\site-packages (from lightgbm) (0.37.1)\n",
      "Requirement already satisfied: scipy in c:\\users\\sesha\\anaconda3\\lib\\site-packages (from lightgbm) (1.7.3)\n",
      "Requirement already satisfied: scikit-learn!=0.22.0 in c:\\users\\sesha\\anaconda3\\lib\\site-packages (from lightgbm) (1.0.2)\n",
      "Requirement already satisfied: numpy in c:\\users\\sesha\\anaconda3\\lib\\site-packages (from lightgbm) (1.21.5)\n",
      "Requirement already satisfied: joblib>=0.11 in c:\\users\\sesha\\anaconda3\\lib\\site-packages (from scikit-learn!=0.22.0->lightgbm) (1.1.0)\n",
      "Requirement already satisfied: threadpoolctl>=2.0.0 in c:\\users\\sesha\\anaconda3\\lib\\site-packages (from scikit-learn!=0.22.0->lightgbm) (2.2.0)\n"
     ]
    }
   ],
   "source": [
    "!pip install lightgbm"
   ]
  },
  {
   "cell_type": "markdown",
   "metadata": {},
   "source": [
    "Installed for CatBoostRegressor model execution"
   ]
  },
  {
   "cell_type": "code",
   "execution_count": 4,
   "metadata": {},
   "outputs": [
    {
     "name": "stdout",
     "output_type": "stream",
     "text": [
      "Requirement already satisfied: catboost in c:\\users\\sesha\\anaconda3\\lib\\site-packages (1.1.1)\n",
      "Requirement already satisfied: six in c:\\users\\sesha\\anaconda3\\lib\\site-packages (from catboost) (1.16.0)\n",
      "Requirement already satisfied: numpy>=1.16.0 in c:\\users\\sesha\\anaconda3\\lib\\site-packages (from catboost) (1.21.5)\n",
      "Requirement already satisfied: pandas>=0.24.0 in c:\\users\\sesha\\anaconda3\\lib\\site-packages (from catboost) (1.4.2)\n",
      "Requirement already satisfied: matplotlib in c:\\users\\sesha\\anaconda3\\lib\\site-packages (from catboost) (3.5.1)\n",
      "Requirement already satisfied: plotly in c:\\users\\sesha\\anaconda3\\lib\\site-packages (from catboost) (5.6.0)\n",
      "Requirement already satisfied: scipy in c:\\users\\sesha\\anaconda3\\lib\\site-packages (from catboost) (1.7.3)\n",
      "Requirement already satisfied: graphviz in c:\\users\\sesha\\anaconda3\\lib\\site-packages (from catboost) (0.20.1)\n",
      "Requirement already satisfied: python-dateutil>=2.8.1 in c:\\users\\sesha\\anaconda3\\lib\\site-packages (from pandas>=0.24.0->catboost) (2.8.2)\n",
      "Requirement already satisfied: pytz>=2020.1 in c:\\users\\sesha\\anaconda3\\lib\\site-packages (from pandas>=0.24.0->catboost) (2021.3)\n",
      "Requirement already satisfied: cycler>=0.10 in c:\\users\\sesha\\anaconda3\\lib\\site-packages (from matplotlib->catboost) (0.11.0)\n",
      "Requirement already satisfied: kiwisolver>=1.0.1 in c:\\users\\sesha\\anaconda3\\lib\\site-packages (from matplotlib->catboost) (1.3.2)\n",
      "Requirement already satisfied: fonttools>=4.22.0 in c:\\users\\sesha\\anaconda3\\lib\\site-packages (from matplotlib->catboost) (4.25.0)\n",
      "Requirement already satisfied: pillow>=6.2.0 in c:\\users\\sesha\\anaconda3\\lib\\site-packages (from matplotlib->catboost) (9.0.1)\n",
      "Requirement already satisfied: pyparsing>=2.2.1 in c:\\users\\sesha\\anaconda3\\lib\\site-packages (from matplotlib->catboost) (3.0.4)\n",
      "Requirement already satisfied: packaging>=20.0 in c:\\users\\sesha\\anaconda3\\lib\\site-packages (from matplotlib->catboost) (21.3)\n",
      "Requirement already satisfied: tenacity>=6.2.0 in c:\\users\\sesha\\anaconda3\\lib\\site-packages (from plotly->catboost) (8.0.1)\n",
      "Note: you may need to restart the kernel to use updated packages.\n"
     ]
    }
   ],
   "source": [
    "pip install catboost"
   ]
  },
  {
   "cell_type": "markdown",
   "metadata": {},
   "source": [
    "The import statements required for running the regression models."
   ]
  },
  {
   "cell_type": "code",
   "execution_count": 177,
   "metadata": {},
   "outputs": [],
   "source": [
    "import numpy as np\n",
    "import pandas as pd\n",
    "import matplotlib.pyplot as plt\n",
    "from sklearn.model_selection import train_test_split\n",
    "from sklearn import preprocessing\n",
    "from sklearn.feature_selection import RFE\n",
    "from sklearn.linear_model import LinearRegression\n",
    "from sklearn.linear_model import LogisticRegression\n",
    "from sklearn.tree import DecisionTreeRegressor\n",
    "from sklearn.ensemble import RandomForestRegressor\n",
    "%matplotlib inline\n",
    "import seaborn as sns\n",
    "import xgboost as xgb\n",
    "from xgboost import XGBRegressor\n",
    "from xgboost import XGBRFRegressor\n",
    "from sklearn import ensemble\n",
    "from sklearn.neighbors import KNeighborsRegressor\n",
    "from sklearn.linear_model import SGDRegressor\n",
    "import lightgbm as ltgm\n",
    "from sklearn import datasets\n",
    "from sklearn import metrics\n",
    "from sklearn.linear_model import ElasticNet\n",
    "from sklearn import linear_model\n",
    "from catboost import CatBoostRegressor\n",
    "import warnings\n",
    "warnings.simplefilter(action='ignore', category=FutureWarning)"
   ]
  },
  {
   "cell_type": "markdown",
   "metadata": {},
   "source": [
    "## Data PreProcessing"
   ]
  },
  {
   "cell_type": "markdown",
   "metadata": {},
   "source": [
    "Reading the dataset downloaded from the kaggle website  and storing in the dataframe "
   ]
  },
  {
   "cell_type": "code",
   "execution_count": 6,
   "metadata": {},
   "outputs": [],
   "source": [
    "dataset = pd.read_csv(r\"rideshare_kaggle.csv\")"
   ]
  },
  {
   "cell_type": "markdown",
   "metadata": {},
   "source": [
    "Displaying the dataframe"
   ]
  },
  {
   "cell_type": "code",
   "execution_count": 7,
   "metadata": {},
   "outputs": [
    {
     "data": {
      "text/html": [
       "<div>\n",
       "<style scoped>\n",
       "    .dataframe tbody tr th:only-of-type {\n",
       "        vertical-align: middle;\n",
       "    }\n",
       "\n",
       "    .dataframe tbody tr th {\n",
       "        vertical-align: top;\n",
       "    }\n",
       "\n",
       "    .dataframe thead th {\n",
       "        text-align: right;\n",
       "    }\n",
       "</style>\n",
       "<table border=\"1\" class=\"dataframe\">\n",
       "  <thead>\n",
       "    <tr style=\"text-align: right;\">\n",
       "      <th></th>\n",
       "      <th>id</th>\n",
       "      <th>timestamp</th>\n",
       "      <th>hour</th>\n",
       "      <th>day</th>\n",
       "      <th>month</th>\n",
       "      <th>datetime</th>\n",
       "      <th>timezone</th>\n",
       "      <th>source</th>\n",
       "      <th>destination</th>\n",
       "      <th>cab_type</th>\n",
       "      <th>...</th>\n",
       "      <th>precipIntensityMax</th>\n",
       "      <th>uvIndexTime</th>\n",
       "      <th>temperatureMin</th>\n",
       "      <th>temperatureMinTime</th>\n",
       "      <th>temperatureMax</th>\n",
       "      <th>temperatureMaxTime</th>\n",
       "      <th>apparentTemperatureMin</th>\n",
       "      <th>apparentTemperatureMinTime</th>\n",
       "      <th>apparentTemperatureMax</th>\n",
       "      <th>apparentTemperatureMaxTime</th>\n",
       "    </tr>\n",
       "  </thead>\n",
       "  <tbody>\n",
       "    <tr>\n",
       "      <th>0</th>\n",
       "      <td>424553bb-7174-41ea-aeb4-fe06d4f4b9d7</td>\n",
       "      <td>1.544953e+09</td>\n",
       "      <td>9</td>\n",
       "      <td>16</td>\n",
       "      <td>12</td>\n",
       "      <td>2018-12-16 09:30:07</td>\n",
       "      <td>America/New_York</td>\n",
       "      <td>Haymarket Square</td>\n",
       "      <td>North Station</td>\n",
       "      <td>Lyft</td>\n",
       "      <td>...</td>\n",
       "      <td>0.1276</td>\n",
       "      <td>1544979600</td>\n",
       "      <td>39.89</td>\n",
       "      <td>1545012000</td>\n",
       "      <td>43.68</td>\n",
       "      <td>1544968800</td>\n",
       "      <td>33.73</td>\n",
       "      <td>1545012000</td>\n",
       "      <td>38.07</td>\n",
       "      <td>1544958000</td>\n",
       "    </tr>\n",
       "    <tr>\n",
       "      <th>1</th>\n",
       "      <td>4bd23055-6827-41c6-b23b-3c491f24e74d</td>\n",
       "      <td>1.543284e+09</td>\n",
       "      <td>2</td>\n",
       "      <td>27</td>\n",
       "      <td>11</td>\n",
       "      <td>2018-11-27 02:00:23</td>\n",
       "      <td>America/New_York</td>\n",
       "      <td>Haymarket Square</td>\n",
       "      <td>North Station</td>\n",
       "      <td>Lyft</td>\n",
       "      <td>...</td>\n",
       "      <td>0.1300</td>\n",
       "      <td>1543251600</td>\n",
       "      <td>40.49</td>\n",
       "      <td>1543233600</td>\n",
       "      <td>47.30</td>\n",
       "      <td>1543251600</td>\n",
       "      <td>36.20</td>\n",
       "      <td>1543291200</td>\n",
       "      <td>43.92</td>\n",
       "      <td>1543251600</td>\n",
       "    </tr>\n",
       "    <tr>\n",
       "      <th>2</th>\n",
       "      <td>981a3613-77af-4620-a42a-0c0866077d1e</td>\n",
       "      <td>1.543367e+09</td>\n",
       "      <td>1</td>\n",
       "      <td>28</td>\n",
       "      <td>11</td>\n",
       "      <td>2018-11-28 01:00:22</td>\n",
       "      <td>America/New_York</td>\n",
       "      <td>Haymarket Square</td>\n",
       "      <td>North Station</td>\n",
       "      <td>Lyft</td>\n",
       "      <td>...</td>\n",
       "      <td>0.1064</td>\n",
       "      <td>1543338000</td>\n",
       "      <td>35.36</td>\n",
       "      <td>1543377600</td>\n",
       "      <td>47.55</td>\n",
       "      <td>1543320000</td>\n",
       "      <td>31.04</td>\n",
       "      <td>1543377600</td>\n",
       "      <td>44.12</td>\n",
       "      <td>1543320000</td>\n",
       "    </tr>\n",
       "    <tr>\n",
       "      <th>3</th>\n",
       "      <td>c2d88af2-d278-4bfd-a8d0-29ca77cc5512</td>\n",
       "      <td>1.543554e+09</td>\n",
       "      <td>4</td>\n",
       "      <td>30</td>\n",
       "      <td>11</td>\n",
       "      <td>2018-11-30 04:53:02</td>\n",
       "      <td>America/New_York</td>\n",
       "      <td>Haymarket Square</td>\n",
       "      <td>North Station</td>\n",
       "      <td>Lyft</td>\n",
       "      <td>...</td>\n",
       "      <td>0.0000</td>\n",
       "      <td>1543507200</td>\n",
       "      <td>34.67</td>\n",
       "      <td>1543550400</td>\n",
       "      <td>45.03</td>\n",
       "      <td>1543510800</td>\n",
       "      <td>30.30</td>\n",
       "      <td>1543550400</td>\n",
       "      <td>38.53</td>\n",
       "      <td>1543510800</td>\n",
       "    </tr>\n",
       "    <tr>\n",
       "      <th>4</th>\n",
       "      <td>e0126e1f-8ca9-4f2e-82b3-50505a09db9a</td>\n",
       "      <td>1.543463e+09</td>\n",
       "      <td>3</td>\n",
       "      <td>29</td>\n",
       "      <td>11</td>\n",
       "      <td>2018-11-29 03:49:20</td>\n",
       "      <td>America/New_York</td>\n",
       "      <td>Haymarket Square</td>\n",
       "      <td>North Station</td>\n",
       "      <td>Lyft</td>\n",
       "      <td>...</td>\n",
       "      <td>0.0001</td>\n",
       "      <td>1543420800</td>\n",
       "      <td>33.10</td>\n",
       "      <td>1543402800</td>\n",
       "      <td>42.18</td>\n",
       "      <td>1543420800</td>\n",
       "      <td>29.11</td>\n",
       "      <td>1543392000</td>\n",
       "      <td>35.75</td>\n",
       "      <td>1543420800</td>\n",
       "    </tr>\n",
       "  </tbody>\n",
       "</table>\n",
       "<p>5 rows × 57 columns</p>\n",
       "</div>"
      ],
      "text/plain": [
       "                                     id     timestamp  hour  day  month  \\\n",
       "0  424553bb-7174-41ea-aeb4-fe06d4f4b9d7  1.544953e+09     9   16     12   \n",
       "1  4bd23055-6827-41c6-b23b-3c491f24e74d  1.543284e+09     2   27     11   \n",
       "2  981a3613-77af-4620-a42a-0c0866077d1e  1.543367e+09     1   28     11   \n",
       "3  c2d88af2-d278-4bfd-a8d0-29ca77cc5512  1.543554e+09     4   30     11   \n",
       "4  e0126e1f-8ca9-4f2e-82b3-50505a09db9a  1.543463e+09     3   29     11   \n",
       "\n",
       "              datetime          timezone            source    destination  \\\n",
       "0  2018-12-16 09:30:07  America/New_York  Haymarket Square  North Station   \n",
       "1  2018-11-27 02:00:23  America/New_York  Haymarket Square  North Station   \n",
       "2  2018-11-28 01:00:22  America/New_York  Haymarket Square  North Station   \n",
       "3  2018-11-30 04:53:02  America/New_York  Haymarket Square  North Station   \n",
       "4  2018-11-29 03:49:20  America/New_York  Haymarket Square  North Station   \n",
       "\n",
       "  cab_type  ... precipIntensityMax uvIndexTime  temperatureMin  \\\n",
       "0     Lyft  ...             0.1276  1544979600           39.89   \n",
       "1     Lyft  ...             0.1300  1543251600           40.49   \n",
       "2     Lyft  ...             0.1064  1543338000           35.36   \n",
       "3     Lyft  ...             0.0000  1543507200           34.67   \n",
       "4     Lyft  ...             0.0001  1543420800           33.10   \n",
       "\n",
       "   temperatureMinTime  temperatureMax  temperatureMaxTime  \\\n",
       "0          1545012000           43.68          1544968800   \n",
       "1          1543233600           47.30          1543251600   \n",
       "2          1543377600           47.55          1543320000   \n",
       "3          1543550400           45.03          1543510800   \n",
       "4          1543402800           42.18          1543420800   \n",
       "\n",
       "   apparentTemperatureMin  apparentTemperatureMinTime  apparentTemperatureMax  \\\n",
       "0                   33.73                  1545012000                   38.07   \n",
       "1                   36.20                  1543291200                   43.92   \n",
       "2                   31.04                  1543377600                   44.12   \n",
       "3                   30.30                  1543550400                   38.53   \n",
       "4                   29.11                  1543392000                   35.75   \n",
       "\n",
       "  apparentTemperatureMaxTime  \n",
       "0                 1544958000  \n",
       "1                 1543251600  \n",
       "2                 1543320000  \n",
       "3                 1543510800  \n",
       "4                 1543420800  \n",
       "\n",
       "[5 rows x 57 columns]"
      ]
     },
     "execution_count": 7,
     "metadata": {},
     "output_type": "execute_result"
    }
   ],
   "source": [
    "dataset.head()"
   ]
  },
  {
   "cell_type": "markdown",
   "metadata": {},
   "source": [
    "Counting the different type of cars"
   ]
  },
  {
   "cell_type": "code",
   "execution_count": 8,
   "metadata": {},
   "outputs": [
    {
     "data": {
      "text/plain": [
       "UberXL          55096\n",
       "WAV             55096\n",
       "Black SUV       55096\n",
       "Black           55095\n",
       "Taxi            55095\n",
       "UberX           55094\n",
       "UberPool        55091\n",
       "Lux             51235\n",
       "Lyft            51235\n",
       "Lux Black XL    51235\n",
       "Lyft XL         51235\n",
       "Lux Black       51235\n",
       "Shared          51233\n",
       "Name: name, dtype: int64"
      ]
     },
     "execution_count": 8,
     "metadata": {},
     "output_type": "execute_result"
    }
   ],
   "source": [
    "dataset['name'].value_counts()"
   ]
  },
  {
   "cell_type": "markdown",
   "metadata": {},
   "source": [
    "Reducing the dataset by choosing certain type of cab"
   ]
  },
  {
   "cell_type": "code",
   "execution_count": 9,
   "metadata": {},
   "outputs": [],
   "source": [
    "\n",
    "new_dataset = dataset[dataset['name'].isin(['UberXL', 'UberX', 'UberPool', 'Lux', 'Lyft', 'Lux Black', 'Black']) ]"
   ]
  },
  {
   "cell_type": "code",
   "execution_count": 10,
   "metadata": {},
   "outputs": [
    {
     "data": {
      "text/plain": [
       "(374081, 57)"
      ]
     },
     "execution_count": 10,
     "metadata": {},
     "output_type": "execute_result"
    }
   ],
   "source": [
    "new_dataset.shape"
   ]
  },
  {
   "cell_type": "markdown",
   "metadata": {},
   "source": [
    "Sklearn labelencoder is a method for transforming categorical values to numerical values so that machine learning models can analyze the data and discover hidden patterns.Without label encoder the regression models would error out for the many columns as they are category labels like UberXL etc."
   ]
  },
  {
   "cell_type": "code",
   "execution_count": 11,
   "metadata": {},
   "outputs": [
    {
     "data": {
      "text/plain": [
       "id                              object\n",
       "timestamp                      float64\n",
       "hour                             int64\n",
       "day                              int64\n",
       "month                            int64\n",
       "datetime                        object\n",
       "timezone                        object\n",
       "source                          object\n",
       "destination                     object\n",
       "cab_type                        object\n",
       "product_id                      object\n",
       "name                            object\n",
       "price                          float64\n",
       "distance                       float64\n",
       "surge_multiplier               float64\n",
       "latitude                       float64\n",
       "longitude                      float64\n",
       "temperature                    float64\n",
       "apparentTemperature            float64\n",
       "short_summary                   object\n",
       "long_summary                    object\n",
       "precipIntensity                float64\n",
       "precipProbability              float64\n",
       "humidity                       float64\n",
       "windSpeed                      float64\n",
       "windGust                       float64\n",
       "windGustTime                     int64\n",
       "visibility                     float64\n",
       "temperatureHigh                float64\n",
       "temperatureHighTime              int64\n",
       "temperatureLow                 float64\n",
       "temperatureLowTime               int64\n",
       "apparentTemperatureHigh        float64\n",
       "apparentTemperatureHighTime      int64\n",
       "apparentTemperatureLow         float64\n",
       "apparentTemperatureLowTime       int64\n",
       "icon                            object\n",
       "dewPoint                       float64\n",
       "pressure                       float64\n",
       "windBearing                      int64\n",
       "cloudCover                     float64\n",
       "uvIndex                          int64\n",
       "visibility.1                   float64\n",
       "ozone                          float64\n",
       "sunriseTime                      int64\n",
       "sunsetTime                       int64\n",
       "moonPhase                      float64\n",
       "precipIntensityMax             float64\n",
       "uvIndexTime                      int64\n",
       "temperatureMin                 float64\n",
       "temperatureMinTime               int64\n",
       "temperatureMax                 float64\n",
       "temperatureMaxTime               int64\n",
       "apparentTemperatureMin         float64\n",
       "apparentTemperatureMinTime       int64\n",
       "apparentTemperatureMax         float64\n",
       "apparentTemperatureMaxTime       int64\n",
       "dtype: object"
      ]
     },
     "execution_count": 11,
     "metadata": {},
     "output_type": "execute_result"
    }
   ],
   "source": [
    "encoded_data = preprocessing.LabelEncoder() \n",
    "new_dataset.dtypes"
   ]
  },
  {
   "cell_type": "code",
   "execution_count": 12,
   "metadata": {},
   "outputs": [],
   "source": [
    "pd.options.mode.chained_assignment = None\n",
    "new_dataset['id']= encoded_data.fit_transform(new_dataset['id']) \n",
    "new_dataset['destination']= encoded_data.fit_transform(new_dataset['destination']) \n",
    "new_dataset['product_id']= encoded_data.fit_transform(new_dataset['product_id'])\n",
    "new_dataset['source']= encoded_data.fit_transform(new_dataset['source'])\n",
    "new_dataset['name']= encoded_data.fit_transform(new_dataset['name'])\n",
    "new_dataset['icon']= encoded_data.fit_transform(new_dataset['icon'])\n",
    "new_dataset['datetime']= encoded_data.fit_transform(new_dataset['datetime']) \n",
    "new_dataset['timezone']= encoded_data.fit_transform(new_dataset['timezone'])\n",
    "new_dataset['short_summary']= encoded_data.fit_transform(new_dataset['short_summary'])\n",
    "new_dataset['long_summary']= encoded_data.fit_transform(new_dataset['long_summary'])"
   ]
  },
  {
   "cell_type": "markdown",
   "metadata": {},
   "source": [
    "## Data Visualization"
   ]
  },
  {
   "cell_type": "markdown",
   "metadata": {},
   "source": [
    "The data can be visualized using maps,graphs and charts."
   ]
  },
  {
   "cell_type": "markdown",
   "metadata": {},
   "source": [
    "1. Investigating the number of cabs taken under various weather conditions."
   ]
  },
  {
   "cell_type": "code",
   "execution_count": 13,
   "metadata": {},
   "outputs": [
    {
     "data": {
      "text/plain": [
       "<AxesSubplot:>"
      ]
     },
     "execution_count": 13,
     "metadata": {},
     "output_type": "execute_result"
    },
    {
     "data": {
      "image/png": "[encoded data removed]",
      "text/plain": [
       "<Figure size 792x432 with 1 Axes>"
      ]
     },
     "metadata": {
      "needs_background": "light"
     },
     "output_type": "display_data"
    }
   ],
   "source": [
    "new_dataset['icon'].value_counts().plot(kind='bar', figsize=(11,6), color='brown')"
   ]
  },
  {
   "cell_type": "markdown",
   "metadata": {},
   "source": [
    "<b>Observation: </b>We noticed that cloudy weather had the most data, which leads us to believe that consumers chose to take more cab rides in cloudy weather."
   ]
  },
  {
   "cell_type": "markdown",
   "metadata": {},
   "source": [
    "2. Investigating on the number of cabs taken on various months"
   ]
  },
  {
   "cell_type": "code",
   "execution_count": 14,
   "metadata": {},
   "outputs": [
    {
     "data": {
      "text/plain": [
       "<AxesSubplot:ylabel='month'>"
      ]
     },
     "execution_count": 14,
     "metadata": {},
     "output_type": "execute_result"
    },
    {
     "data": {
      "image/png": "[encoded data removed]",
      "text/plain": [
       "<Figure size 432x288 with 1 Axes>"
      ]
     },
     "metadata": {},
     "output_type": "display_data"
    }
   ],
   "source": [
    "new_dataset['month'].value_counts().plot(kind='pie',y='month')"
   ]
  },
  {
   "cell_type": "markdown",
   "metadata": {},
   "source": [
    "<b>Observation: </b>From the graph we can infer that the customers prefer cabs mostly during  November and December months."
   ]
  },
  {
   "cell_type": "markdown",
   "metadata": {},
   "source": [
    "3.Investigating on the number of customers using uber and lyft"
   ]
  },
  {
   "cell_type": "code",
   "execution_count": 15,
   "metadata": {},
   "outputs": [
    {
     "data": {
      "text/plain": [
       "<AxesSubplot:>"
      ]
     },
     "execution_count": 15,
     "metadata": {},
     "output_type": "execute_result"
    },
    {
     "data": {
      "image/png": "[encoded data removed]",
      "text/plain": [
       "<Figure size 792x432 with 1 Axes>"
      ]
     },
     "metadata": {
      "needs_background": "light"
     },
     "output_type": "display_data"
    }
   ],
   "source": [
    "new_dataset['cab_type'].value_counts().plot(kind='bar',figsize=(11,6), color='purple')"
   ]
  },
  {
   "cell_type": "markdown",
   "metadata": {},
   "source": [
    "<b>Observation: </b> Most of the customers prefers uber than the lyft according to the graph."
   ]
  },
  {
   "cell_type": "markdown",
   "metadata": {},
   "source": [
    "#### Correlation Analysis"
   ]
  },
  {
   "cell_type": "code",
   "execution_count": 165,
   "metadata": {},
   "outputs": [
    {
     "data": {
      "text/plain": [
       "<AxesSubplot:>"
      ]
     },
     "execution_count": 165,
     "metadata": {},
     "output_type": "execute_result"
    },
    {
     "data": {
      "image/png": "[encoded data removed]",
      "text/plain": [
       "<Figure size 1440x1080 with 2 Axes>"
      ]
     },
     "metadata": {
      "needs_background": "light"
     },
     "output_type": "display_data"
    }
   ],
   "source": [
    "plt.subplots(figsize=(20,15))\n",
    "sns.heatmap(new_dataset.corr(),cmap='coolwarm',annot=True,)"
   ]
  },
  {
   "cell_type": "markdown",
   "metadata": {},
   "source": [
    "<b> Observation: </b> We can observe that the correlation matrix's output is symmetrical, or that the bottom left and top right are the same. Additionally, it has been found that there is a positive correlation between most of the  variable and some has negative correlation between variable."
   ]
  },
  {
   "cell_type": "markdown",
   "metadata": {},
   "source": [
    "## Creating  Training  And Testing Dataset"
   ]
  },
  {
   "cell_type": "markdown",
   "metadata": {},
   "source": [
    "We are now assigning the data columns for the  X and Y.\n",
    "We would be droping the price and the cab_type from the X dataset  and would only include price column in the Y dataset as its the value to be predicted. The cab_type is not required for the training therefore we are droping it from the dataset."
   ]
  },
  {
   "cell_type": "code",
   "execution_count": 16,
   "metadata": {},
   "outputs": [],
   "source": [
    "new_dataset['price'] = new_dataset['price'].astype(int)\n",
    "x = new_dataset.drop('price', axis = 1)\n",
    "y = new_dataset['price']"
   ]
  },
  {
   "cell_type": "code",
   "execution_count": 17,
   "metadata": {},
   "outputs": [],
   "source": [
    "x = x.drop('cab_type', axis=1)"
   ]
  },
  {
   "cell_type": "code",
   "execution_count": 18,
   "metadata": {},
   "outputs": [
    {
     "data": {
      "text/plain": [
       "id                               int32\n",
       "timestamp                      float64\n",
       "hour                             int64\n",
       "day                              int64\n",
       "month                            int64\n",
       "datetime                         int32\n",
       "timezone                         int32\n",
       "source                           int32\n",
       "destination                      int32\n",
       "product_id                       int32\n",
       "name                             int32\n",
       "distance                       float64\n",
       "surge_multiplier               float64\n",
       "latitude                       float64\n",
       "longitude                      float64\n",
       "temperature                    float64\n",
       "apparentTemperature            float64\n",
       "short_summary                    int32\n",
       "long_summary                     int32\n",
       "precipIntensity                float64\n",
       "precipProbability              float64\n",
       "humidity                       float64\n",
       "windSpeed                      float64\n",
       "windGust                       float64\n",
       "windGustTime                     int64\n",
       "visibility                     float64\n",
       "temperatureHigh                float64\n",
       "temperatureHighTime              int64\n",
       "temperatureLow                 float64\n",
       "temperatureLowTime               int64\n",
       "apparentTemperatureHigh        float64\n",
       "apparentTemperatureHighTime      int64\n",
       "apparentTemperatureLow         float64\n",
       "apparentTemperatureLowTime       int64\n",
       "icon                             int32\n",
       "dewPoint                       float64\n",
       "pressure                       float64\n",
       "windBearing                      int64\n",
       "cloudCover                     float64\n",
       "uvIndex                          int64\n",
       "visibility.1                   float64\n",
       "ozone                          float64\n",
       "sunriseTime                      int64\n",
       "sunsetTime                       int64\n",
       "moonPhase                      float64\n",
       "precipIntensityMax             float64\n",
       "uvIndexTime                      int64\n",
       "temperatureMin                 float64\n",
       "temperatureMinTime               int64\n",
       "temperatureMax                 float64\n",
       "temperatureMaxTime               int64\n",
       "apparentTemperatureMin         float64\n",
       "apparentTemperatureMinTime       int64\n",
       "apparentTemperatureMax         float64\n",
       "apparentTemperatureMaxTime       int64\n",
       "dtype: object"
      ]
     },
     "execution_count": 18,
     "metadata": {},
     "output_type": "execute_result"
    }
   ],
   "source": [
    "label_encoder = preprocessing.LabelEncoder() \n",
    "x.dtypes"
   ]
  },
  {
   "cell_type": "code",
   "execution_count": 19,
   "metadata": {},
   "outputs": [
    {
     "data": {
      "text/html": [
       "<div>\n",
       "<style scoped>\n",
       "    .dataframe tbody tr th:only-of-type {\n",
       "        vertical-align: middle;\n",
       "    }\n",
       "\n",
       "    .dataframe tbody tr th {\n",
       "        vertical-align: top;\n",
       "    }\n",
       "\n",
       "    .dataframe thead th {\n",
       "        text-align: right;\n",
       "    }\n",
       "</style>\n",
       "<table border=\"1\" class=\"dataframe\">\n",
       "  <thead>\n",
       "    <tr style=\"text-align: right;\">\n",
       "      <th></th>\n",
       "      <th>id</th>\n",
       "      <th>timestamp</th>\n",
       "      <th>hour</th>\n",
       "      <th>day</th>\n",
       "      <th>month</th>\n",
       "      <th>datetime</th>\n",
       "      <th>timezone</th>\n",
       "      <th>source</th>\n",
       "      <th>destination</th>\n",
       "      <th>product_id</th>\n",
       "      <th>...</th>\n",
       "      <th>precipIntensityMax</th>\n",
       "      <th>uvIndexTime</th>\n",
       "      <th>temperatureMin</th>\n",
       "      <th>temperatureMinTime</th>\n",
       "      <th>temperatureMax</th>\n",
       "      <th>temperatureMaxTime</th>\n",
       "      <th>apparentTemperatureMin</th>\n",
       "      <th>apparentTemperatureMinTime</th>\n",
       "      <th>apparentTemperatureMax</th>\n",
       "      <th>apparentTemperatureMaxTime</th>\n",
       "    </tr>\n",
       "  </thead>\n",
       "  <tbody>\n",
       "    <tr>\n",
       "      <th>1</th>\n",
       "      <td>110731</td>\n",
       "      <td>1.543284e+09</td>\n",
       "      <td>2</td>\n",
       "      <td>27</td>\n",
       "      <td>11</td>\n",
       "      <td>961</td>\n",
       "      <td>0</td>\n",
       "      <td>5</td>\n",
       "      <td>7</td>\n",
       "      <td>6</td>\n",
       "      <td>...</td>\n",
       "      <td>0.1300</td>\n",
       "      <td>1543251600</td>\n",
       "      <td>40.49</td>\n",
       "      <td>1543233600</td>\n",
       "      <td>47.30</td>\n",
       "      <td>1543251600</td>\n",
       "      <td>36.20</td>\n",
       "      <td>1543291200</td>\n",
       "      <td>43.92</td>\n",
       "      <td>1543251600</td>\n",
       "    </tr>\n",
       "    <tr>\n",
       "      <th>2</th>\n",
       "      <td>221977</td>\n",
       "      <td>1.543367e+09</td>\n",
       "      <td>1</td>\n",
       "      <td>28</td>\n",
       "      <td>11</td>\n",
       "      <td>2534</td>\n",
       "      <td>0</td>\n",
       "      <td>5</td>\n",
       "      <td>7</td>\n",
       "      <td>4</td>\n",
       "      <td>...</td>\n",
       "      <td>0.1064</td>\n",
       "      <td>1543338000</td>\n",
       "      <td>35.36</td>\n",
       "      <td>1543377600</td>\n",
       "      <td>47.55</td>\n",
       "      <td>1543320000</td>\n",
       "      <td>31.04</td>\n",
       "      <td>1543377600</td>\n",
       "      <td>44.12</td>\n",
       "      <td>1543320000</td>\n",
       "    </tr>\n",
       "    <tr>\n",
       "      <th>5</th>\n",
       "      <td>360943</td>\n",
       "      <td>1.545071e+09</td>\n",
       "      <td>18</td>\n",
       "      <td>17</td>\n",
       "      <td>12</td>\n",
       "      <td>28794</td>\n",
       "      <td>0</td>\n",
       "      <td>5</td>\n",
       "      <td>7</td>\n",
       "      <td>5</td>\n",
       "      <td>...</td>\n",
       "      <td>0.0221</td>\n",
       "      <td>1545066000</td>\n",
       "      <td>34.19</td>\n",
       "      <td>1545048000</td>\n",
       "      <td>40.66</td>\n",
       "      <td>1545022800</td>\n",
       "      <td>27.39</td>\n",
       "      <td>1545044400</td>\n",
       "      <td>34.97</td>\n",
       "      <td>1545080400</td>\n",
       "    </tr>\n",
       "    <tr>\n",
       "      <th>7</th>\n",
       "      <td>104182</td>\n",
       "      <td>1.543780e+09</td>\n",
       "      <td>19</td>\n",
       "      <td>2</td>\n",
       "      <td>12</td>\n",
       "      <td>13449</td>\n",
       "      <td>0</td>\n",
       "      <td>0</td>\n",
       "      <td>8</td>\n",
       "      <td>5</td>\n",
       "      <td>...</td>\n",
       "      <td>0.0916</td>\n",
       "      <td>1543770000</td>\n",
       "      <td>36.32</td>\n",
       "      <td>1543726800</td>\n",
       "      <td>50.80</td>\n",
       "      <td>1543788000</td>\n",
       "      <td>35.84</td>\n",
       "      <td>1543748400</td>\n",
       "      <td>50.13</td>\n",
       "      <td>1543788000</td>\n",
       "    </tr>\n",
       "    <tr>\n",
       "      <th>10</th>\n",
       "      <td>210349</td>\n",
       "      <td>1.543594e+09</td>\n",
       "      <td>16</td>\n",
       "      <td>30</td>\n",
       "      <td>11</td>\n",
       "      <td>8159</td>\n",
       "      <td>0</td>\n",
       "      <td>0</td>\n",
       "      <td>8</td>\n",
       "      <td>6</td>\n",
       "      <td>...</td>\n",
       "      <td>0.0004</td>\n",
       "      <td>1543593600</td>\n",
       "      <td>28.64</td>\n",
       "      <td>1543579200</td>\n",
       "      <td>42.32</td>\n",
       "      <td>1543600800</td>\n",
       "      <td>29.29</td>\n",
       "      <td>1543579200</td>\n",
       "      <td>40.48</td>\n",
       "      <td>1543611600</td>\n",
       "    </tr>\n",
       "  </tbody>\n",
       "</table>\n",
       "<p>5 rows × 55 columns</p>\n",
       "</div>"
      ],
      "text/plain": [
       "        id     timestamp  hour  day  month  datetime  timezone  source  \\\n",
       "1   110731  1.543284e+09     2   27     11       961         0       5   \n",
       "2   221977  1.543367e+09     1   28     11      2534         0       5   \n",
       "5   360943  1.545071e+09    18   17     12     28794         0       5   \n",
       "7   104182  1.543780e+09    19    2     12     13449         0       0   \n",
       "10  210349  1.543594e+09    16   30     11      8159         0       0   \n",
       "\n",
       "    destination  product_id  ...  precipIntensityMax  uvIndexTime  \\\n",
       "1             7           6  ...              0.1300   1543251600   \n",
       "2             7           4  ...              0.1064   1543338000   \n",
       "5             7           5  ...              0.0221   1545066000   \n",
       "7             8           5  ...              0.0916   1543770000   \n",
       "10            8           6  ...              0.0004   1543593600   \n",
       "\n",
       "    temperatureMin  temperatureMinTime  temperatureMax  temperatureMaxTime  \\\n",
       "1            40.49          1543233600           47.30          1543251600   \n",
       "2            35.36          1543377600           47.55          1543320000   \n",
       "5            34.19          1545048000           40.66          1545022800   \n",
       "7            36.32          1543726800           50.80          1543788000   \n",
       "10           28.64          1543579200           42.32          1543600800   \n",
       "\n",
       "    apparentTemperatureMin  apparentTemperatureMinTime  \\\n",
       "1                    36.20                  1543291200   \n",
       "2                    31.04                  1543377600   \n",
       "5                    27.39                  1545044400   \n",
       "7                    35.84                  1543748400   \n",
       "10                   29.29                  1543579200   \n",
       "\n",
       "    apparentTemperatureMax  apparentTemperatureMaxTime  \n",
       "1                    43.92                  1543251600  \n",
       "2                    44.12                  1543320000  \n",
       "5                    34.97                  1545080400  \n",
       "7                    50.13                  1543788000  \n",
       "10                   40.48                  1543611600  \n",
       "\n",
       "[5 rows x 55 columns]"
      ]
     },
     "execution_count": 19,
     "metadata": {},
     "output_type": "execute_result"
    }
   ],
   "source": [
    "x.head()"
   ]
  },
  {
   "cell_type": "code",
   "execution_count": 20,
   "metadata": {},
   "outputs": [
    {
     "data": {
      "text/plain": [
       "(374081, 55)"
      ]
     },
     "execution_count": 20,
     "metadata": {},
     "output_type": "execute_result"
    }
   ],
   "source": [
    "x.shape"
   ]
  },
  {
   "cell_type": "code",
   "execution_count": 21,
   "metadata": {},
   "outputs": [
    {
     "data": {
      "text/plain": [
       "1     11\n",
       "2      7\n",
       "5     16\n",
       "7     16\n",
       "10    13\n",
       "Name: price, dtype: int32"
      ]
     },
     "execution_count": 21,
     "metadata": {},
     "output_type": "execute_result"
    }
   ],
   "source": [
    "y.head()"
   ]
  },
  {
   "cell_type": "code",
   "execution_count": 22,
   "metadata": {},
   "outputs": [
    {
     "data": {
      "text/plain": [
       "(374081,)"
      ]
     },
     "execution_count": 22,
     "metadata": {},
     "output_type": "execute_result"
    }
   ],
   "source": [
    "y.shape"
   ]
  },
  {
   "cell_type": "code",
   "execution_count": 23,
   "metadata": {},
   "outputs": [],
   "source": [
    "X_train, X_test, Y_train, Y_test = train_test_split(x, y, test_size = 0.3, random_state = 30)"
   ]
  },
  {
   "cell_type": "code",
   "execution_count": 24,
   "metadata": {},
   "outputs": [
    {
     "data": {
      "text/plain": [
       "(261856, 55)"
      ]
     },
     "execution_count": 24,
     "metadata": {},
     "output_type": "execute_result"
    }
   ],
   "source": [
    "X_train.shape"
   ]
  },
  {
   "cell_type": "code",
   "execution_count": 25,
   "metadata": {},
   "outputs": [
    {
     "data": {
      "text/plain": [
       "(112225, 55)"
      ]
     },
     "execution_count": 25,
     "metadata": {},
     "output_type": "execute_result"
    }
   ],
   "source": [
    "X_test.shape"
   ]
  },
  {
   "cell_type": "code",
   "execution_count": 26,
   "metadata": {},
   "outputs": [
    {
     "data": {
      "text/plain": [
       "(261856,)"
      ]
     },
     "execution_count": 26,
     "metadata": {},
     "output_type": "execute_result"
    }
   ],
   "source": [
    "Y_train.shape"
   ]
  },
  {
   "cell_type": "code",
   "execution_count": 27,
   "metadata": {},
   "outputs": [
    {
     "data": {
      "text/plain": [
       "(112225,)"
      ]
     },
     "execution_count": 27,
     "metadata": {},
     "output_type": "execute_result"
    }
   ],
   "source": [
    "Y_test.shape"
   ]
  },
  {
   "cell_type": "markdown",
   "metadata": {},
   "source": [
    "## Regression Models Evaluation"
   ]
  },
  {
   "cell_type": "markdown",
   "metadata": {},
   "source": [
    "###  XGBRegression Model"
   ]
  },
  {
   "cell_type": "code",
   "execution_count": 28,
   "metadata": {},
   "outputs": [
    {
     "data": {
      "text/plain": [
       "0.9392990819368835"
      ]
     },
     "execution_count": 28,
     "metadata": {},
     "output_type": "execute_result"
    }
   ],
   "source": [
    "xgbRM=XGBRegressor()\n",
    "xgbRM.fit(X_train, Y_train)\n",
    "xgbRM.score(X_test, Y_test)"
   ]
  },
  {
   "cell_type": "markdown",
   "metadata": {},
   "source": [
    "The XGBRegression accuracy is 93.92 %.Since the accuracy seems to be less so lets use the Recursive Feature Elimination to increase the effenciency of the regression model by selecting the subset of the most revelent columns of the dataset."
   ]
  },
  {
   "cell_type": "code",
   "execution_count": 29,
   "metadata": {},
   "outputs": [
    {
     "name": "stdout",
     "output_type": "stream",
     "text": [
      "Fitting estimator with 55 features.\n",
      "Fitting estimator with 54 features.\n",
      "Fitting estimator with 53 features.\n",
      "Fitting estimator with 52 features.\n",
      "Fitting estimator with 51 features.\n",
      "Fitting estimator with 50 features.\n",
      "Fitting estimator with 49 features.\n",
      "Fitting estimator with 48 features.\n",
      "Fitting estimator with 47 features.\n",
      "Fitting estimator with 46 features.\n",
      "Fitting estimator with 45 features.\n",
      "Fitting estimator with 44 features.\n",
      "Fitting estimator with 43 features.\n",
      "Fitting estimator with 42 features.\n",
      "Fitting estimator with 41 features.\n",
      "Fitting estimator with 40 features.\n",
      "Fitting estimator with 39 features.\n",
      "Fitting estimator with 38 features.\n",
      "Fitting estimator with 37 features.\n",
      "Fitting estimator with 36 features.\n",
      "Fitting estimator with 35 features.\n",
      "Fitting estimator with 34 features.\n",
      "Fitting estimator with 33 features.\n",
      "Fitting estimator with 32 features.\n",
      "Fitting estimator with 31 features.\n",
      "Fitting estimator with 30 features.\n",
      "Fitting estimator with 29 features.\n",
      "Fitting estimator with 28 features.\n",
      "Fitting estimator with 27 features.\n",
      "Fitting estimator with 26 features.\n",
      "Fitting estimator with 25 features.\n",
      "Fitting estimator with 24 features.\n",
      "Fitting estimator with 23 features.\n",
      "Fitting estimator with 22 features.\n",
      "Fitting estimator with 21 features.\n",
      "Fitting estimator with 20 features.\n",
      "Fitting estimator with 19 features.\n",
      "Fitting estimator with 18 features.\n",
      "Fitting estimator with 17 features.\n",
      "Fitting estimator with 16 features.\n",
      "Fitting estimator with 15 features.\n",
      "Fitting estimator with 14 features.\n",
      "Fitting estimator with 13 features.\n"
     ]
    }
   ],
   "source": [
    "rFeature = RFE(estimator=xgbRM, n_features_to_select=12,verbose=1)\n",
    "rFeature = rFeature.fit(x, y)"
   ]
  },
  {
   "cell_type": "code",
   "execution_count": 30,
   "metadata": {},
   "outputs": [
    {
     "data": {
      "text/plain": [
       "0.9443594246457913"
      ]
     },
     "execution_count": 30,
     "metadata": {},
     "output_type": "execute_result"
    }
   ],
   "source": [
    "rFeature.score(x,y)"
   ]
  },
  {
   "cell_type": "markdown",
   "metadata": {},
   "source": [
    "The accuracy  of the RFE model is 94.43 %"
   ]
  },
  {
   "cell_type": "code",
   "execution_count": 31,
   "metadata": {},
   "outputs": [],
   "source": [
    "# training using the new dataset\n",
    "x_new  = x[x.columns[rFeature.support_]]\n",
    "X_train, X_test, Y_train, Y_test = train_test_split(x_new, y, test_size = 0.3, random_state = 10)"
   ]
  },
  {
   "cell_type": "code",
   "execution_count": 32,
   "metadata": {},
   "outputs": [
    {
     "data": {
      "text/plain": [
       "0.9426362302567115"
      ]
     },
     "execution_count": 32,
     "metadata": {},
     "output_type": "execute_result"
    }
   ],
   "source": [
    "xgbRM=XGBRegressor()\n",
    "xgbRM.fit(X_train, Y_train)\n",
    "xgbRM.score(X_test, Y_test)"
   ]
  },
  {
   "cell_type": "markdown",
   "metadata": {},
   "source": [
    " The accuracy of xgboost model after RFE is 94%"
   ]
  },
  {
   "cell_type": "markdown",
   "metadata": {},
   "source": [
    "<b>Observation :</b> We notice an increase in efficiency after removing unrelated columns."
   ]
  },
  {
   "cell_type": "markdown",
   "metadata": {},
   "source": [
    "Lets try droping somemore columns and check for efficiency of model"
   ]
  },
  {
   "cell_type": "code",
   "execution_count": 181,
   "metadata": {},
   "outputs": [
    {
     "data": {
      "text/plain": [
       "Index(['source', 'destination', 'product_id', 'name', 'distance',\n",
       "       'surge_multiplier', 'short_summary', 'windGust',\n",
       "       'apparentTemperatureHighTime', 'apparentTemperatureLow', 'windBearing',\n",
       "       'ozone'],\n",
       "      dtype='object')"
      ]
     },
     "execution_count": 181,
     "metadata": {},
     "output_type": "execute_result"
    }
   ],
   "source": [
    "x_new.columns"
   ]
  },
  {
   "cell_type": "code",
   "execution_count": 86,
   "metadata": {},
   "outputs": [],
   "source": [
    "#removing further  features\n",
    "drop_column = ['short_summary','ozone', 'windBearing','apparentTemperatureHighTime']\n",
    "new_dataset = x_new.drop(drop_column, axis=1)"
   ]
  },
  {
   "cell_type": "code",
   "execution_count": 87,
   "metadata": {},
   "outputs": [
    {
     "data": {
      "text/plain": [
       "0.940223816918239"
      ]
     },
     "execution_count": 87,
     "metadata": {},
     "output_type": "execute_result"
    }
   ],
   "source": [
    "X_train, X_test, Y_train, Y_test = train_test_split(new_dataset, y, test_size = 0.3, random_state = 40)\n",
    "xgbRM=XGBRegressor()\n",
    "xgbRM.fit(X_train, Y_train)\n",
    "xgbRM.score(X_test, Y_test)"
   ]
  },
  {
   "cell_type": "code",
   "execution_count": 88,
   "metadata": {},
   "outputs": [],
   "source": [
    "X_train, X_test, Y_train, Y_test = train_test_split(new_dataset, y, test_size = 0.3, random_state = 10)"
   ]
  },
  {
   "cell_type": "code",
   "execution_count": 137,
   "metadata": {},
   "outputs": [
    {
     "data": {
      "text/plain": [
       "0.9431381525158612"
      ]
     },
     "execution_count": 137,
     "metadata": {},
     "output_type": "execute_result"
    }
   ],
   "source": [
    "xgbRM=XGBRegressor()\n",
    "xgbRM.fit(X_train, Y_train)\n",
    "xgbRM.score(X_test, Y_test)"
   ]
  },
  {
   "cell_type": "markdown",
   "metadata": {},
   "source": [
    "<b> The accuracy of the XGBoost Model is 94.31% </b>"
   ]
  },
  {
   "cell_type": "markdown",
   "metadata": {},
   "source": [
    "### Hyperparameters employed to fine-tune our XGBoost model."
   ]
  },
  {
   "cell_type": "markdown",
   "metadata": {},
   "source": [
    "We are trying to check with various parameters to evaluate the efficiency of the XGBoost Model.\n",
    "We will changed values of eta ,max_depth, min_child_weight and colsample_bytree and check the accuracy."
   ]
  },
  {
   "cell_type": "code",
   "execution_count": 138,
   "metadata": {},
   "outputs": [
    {
     "data": {
      "text/plain": [
       "0.9336513173860339"
      ]
     },
     "execution_count": 138,
     "metadata": {},
     "output_type": "execute_result"
    }
   ],
   "source": [
    "xgbRM1=XGBRegressor(eta=0.9,max_depth=9,min_child_weight=1.5,colsample_bytree=0.9)\n",
    "xgbRM1.fit(X_train, Y_train)\n",
    "xgbRM1.score(X_test, Y_test)"
   ]
  },
  {
   "cell_type": "markdown",
   "metadata": {},
   "source": [
    "The accuracy is 93.33%"
   ]
  },
  {
   "cell_type": "markdown",
   "metadata": {},
   "source": [
    "Decreasing the values of all the parameters and testing."
   ]
  },
  {
   "cell_type": "code",
   "execution_count": 139,
   "metadata": {},
   "outputs": [
    {
     "data": {
      "text/plain": [
       "0.9418476179286388"
      ]
     },
     "execution_count": 139,
     "metadata": {},
     "output_type": "execute_result"
    }
   ],
   "source": [
    "xgbRM2=XGBRegressor(eta=0.8,max_depth=6,min_child_weight=1.3,colsample_bytree=0.8)\n",
    "xgbRM2.fit(X_train, Y_train)\n",
    "xgbRM2.score(X_test, Y_test)"
   ]
  },
  {
   "cell_type": "markdown",
   "metadata": {},
   "source": [
    "The accuracy is 94.18 %"
   ]
  },
  {
   "cell_type": "markdown",
   "metadata": {},
   "source": [
    "Retaining all the other parameters as constant and testing with increasing eta to 1."
   ]
  },
  {
   "cell_type": "code",
   "execution_count": 140,
   "metadata": {},
   "outputs": [
    {
     "data": {
      "text/plain": [
       "0.9405420432010672"
      ]
     },
     "execution_count": 140,
     "metadata": {},
     "output_type": "execute_result"
    }
   ],
   "source": [
    "xgbRM3=XGBRegressor(eta=1,max_depth=6,min_child_weight=1.3,colsample_bytree=0.8)\n",
    "xgbRM3.fit(X_train, Y_train)\n",
    "xgbRM3.score(X_test, Y_test)"
   ]
  },
  {
   "cell_type": "markdown",
   "metadata": {},
   "source": [
    "<b> Observations:</b> When the eta=0.9,max_depth=9,min_child_weight=1.5 and colsample_bytree=0.9 accuracy was 0.9336513173860339 and when the eta=0.8,max_depth=6,min_child_weight=1.3,colsample_bytree=0.8 the accuracy was 0.9418476179286388.Therefore lesser the eta, max_depth,min_child_weight and colsample_bytree value more is the accuracy of the model."
   ]
  },
  {
   "cell_type": "code",
   "execution_count": 147,
   "metadata": {},
   "outputs": [
    {
     "name": "stdout",
     "output_type": "stream",
     "text": [
      "RMSE Value of XGBoost :   1.625082022065464\n",
      "Mean Absolute Error of XGBoost:   1.0326834278017463\n",
      "Mean Squared Error of XGBoost:   2.6408915784403773\n"
     ]
    }
   ],
   "source": [
    "Y_predict_Test_xgbRm = xgbRM.predict(X_test)\n",
    "print (\"RMSE Value of XGBoost :  \", np.sqrt(metrics.mean_squared_error( Y_test,Y_predict_Test_xgbRm)))\n",
    "print (\"Mean Absolute Error of XGBoost:  \",metrics.mean_absolute_error( Y_test,Y_predict_Test_xgbRm))\n",
    "print (\"Mean Squared Error of XGBoost:  \",metrics.mean_squared_error( Y_test,Y_predict_Test_xgbRm))"
   ]
  },
  {
   "cell_type": "code",
   "execution_count": 94,
   "metadata": {},
   "outputs": [
    {
     "data": {
      "image/png": "[encoded data removed]",
      "text/plain": [
       "<Figure size 432x288 with 1 Axes>"
      ]
     },
     "metadata": {
      "needs_background": "light"
     },
     "output_type": "display_data"
    }
   ],
   "source": [
    "plotxgbRm = plt.axes()\n",
    "# we are going to use y_test, y_test_pred\n",
    "plotxgbRm.scatter(Y_test, Y_predict_Test_xgbRm, alpha=.5)\n",
    "\n",
    "plotxgbRm.set(xlabel='Actual', \n",
    "       ylabel='Predictions',\n",
    "       title='Fare price Predictions vs Actual, using XGBRegressor');"
   ]
  },
  {
   "cell_type": "markdown",
   "metadata": {},
   "source": [
    "<b>Observations : </b> The scattered plot has high positive correlation since most of the values are overlapping and very close to each other which is evident from the accuracy value as well as the accuracy is high."
   ]
  },
  {
   "cell_type": "markdown",
   "metadata": {},
   "source": [
    "Ploting a Histogram Grahp for the predicted price"
   ]
  },
  {
   "cell_type": "code",
   "execution_count": 206,
   "metadata": {},
   "outputs": [
    {
     "data": {
      "text/plain": [
       "<AxesSubplot:xlabel='Predicted Price', ylabel='Density'>"
      ]
     },
     "execution_count": 206,
     "metadata": {},
     "output_type": "execute_result"
    },
    {
     "data": {
      "image/png": "[encoded data removed]",
      "text/plain": [
       "<Figure size 432x288 with 1 Axes>"
      ]
     },
     "metadata": {
      "needs_background": "light"
     },
     "output_type": "display_data"
    }
   ],
   "source": [
    "dfPredict = pd.DataFrame({'Predicted Price':Y_predict_Test_xgbRm})\n",
    "sns.distplot(dfPredict['Predicted Price'])"
   ]
  },
  {
   "cell_type": "markdown",
   "metadata": {},
   "source": [
    "<b> Observation :</b>  It is observed that  10  dollars has high frequency price and least frequency price is between 50 to 70 dollars in the histogram."
   ]
  },
  {
   "cell_type": "markdown",
   "metadata": {},
   "source": [
    "### Linear Regression Model"
   ]
  },
  {
   "cell_type": "code",
   "execution_count": 95,
   "metadata": {},
   "outputs": [
    {
     "data": {
      "text/plain": [
       "0.4907387474850826"
      ]
     },
     "execution_count": 95,
     "metadata": {},
     "output_type": "execute_result"
    }
   ],
   "source": [
    "lrModel = LinearRegression()\n",
    "lrModel.fit(X_train, Y_train)\n",
    "lrModel.score(X_test, Y_test)"
   ]
  },
  {
   "cell_type": "markdown",
   "metadata": {},
   "source": [
    "<b> The accuracy of the Linear Model is 49.07% </b>"
   ]
  },
  {
   "cell_type": "code",
   "execution_count": 149,
   "metadata": {},
   "outputs": [
    {
     "name": "stdout",
     "output_type": "stream",
     "text": [
      "RMSE Value of Linear Regression :   4.863345455515936\n",
      "Mean Absolute Error of Linear Regression:   3.9776515965461248\n",
      "Mean Squared Error of Linear Regression:   23.652129019687504\n"
     ]
    }
   ],
   "source": [
    "Y_predict_Test_lrModel = lrModel.predict(X_test)\n",
    "print (\"RMSE Value of Linear Regression :  \", np.sqrt(metrics.mean_squared_error( Y_test,Y_predict_Test_lrModel)))\n",
    "print (\"Mean Absolute Error of Linear Regression:  \",metrics.mean_absolute_error( Y_test,Y_predict_Test_lrModel))\n",
    "print (\"Mean Squared Error of Linear Regression:  \",metrics.mean_squared_error( Y_test,Y_predict_Test_lrModel))"
   ]
  },
  {
   "cell_type": "code",
   "execution_count": 97,
   "metadata": {},
   "outputs": [
    {
     "data": {
      "image/png": "[encoded data removed]",
      "text/plain": [
       "<Figure size 432x288 with 1 Axes>"
      ]
     },
     "metadata": {
      "needs_background": "light"
     },
     "output_type": "display_data"
    }
   ],
   "source": [
    "plotLinear = plt.axes()\n",
    "# we are going to use y_test, y_test_pred\n",
    "plotLinear.scatter(Y_test, Y_predict_Test_lrModel, alpha=.5)\n",
    "\n",
    "plotLinear.set(xlabel='Actual', \n",
    "       ylabel='Predictions',\n",
    "       title='Fare price Predictions vs Actual, using Linear Regression');"
   ]
  },
  {
   "cell_type": "markdown",
   "metadata": {},
   "source": [
    "<b>Observations : </b> The scattered plot has low positive correlation since most of the values are scattered  which is evident from the accuracy value as well as the accuracy is low."
   ]
  },
  {
   "cell_type": "code",
   "execution_count": 205,
   "metadata": {},
   "outputs": [
    {
     "data": {
      "text/plain": [
       "<AxesSubplot:xlabel='Predicted Price', ylabel='Density'>"
      ]
     },
     "execution_count": 205,
     "metadata": {},
     "output_type": "execute_result"
    },
    {
     "data": {
      "image/png": "[encoded data removed]",
      "text/plain": [
       "<Figure size 432x288 with 1 Axes>"
      ]
     },
     "metadata": {
      "needs_background": "light"
     },
     "output_type": "display_data"
    }
   ],
   "source": [
    "dfPredict = pd.DataFrame({'Predicted Price':Y_predict_Test_lrModel})\n",
    "sns.distplot(dfPredict['Predicted Price'])"
   ]
  },
  {
   "cell_type": "markdown",
   "metadata": {},
   "source": [
    "<b> Observation :</b>  It is observed that  between 10 to 20 dollars is high frequency price and least frequency price is between 30 to 40 dollars in the histogram."
   ]
  },
  {
   "cell_type": "markdown",
   "metadata": {},
   "source": [
    "### Stochastic Gradient Descent Regression"
   ]
  },
  {
   "cell_type": "code",
   "execution_count": 98,
   "metadata": {},
   "outputs": [
    {
     "data": {
      "text/plain": [
       "0.4667861362204472"
      ]
     },
     "execution_count": 98,
     "metadata": {},
     "output_type": "execute_result"
    }
   ],
   "source": [
    "sgdrModel = SGDRegressor()\n",
    "sgdrModel.fit(X_train, Y_train)\n",
    "sgdrModel.score(X_test, Y_test)"
   ]
  },
  {
   "cell_type": "markdown",
   "metadata": {},
   "source": [
    "<b> The accuracy of the SGDRegression Model is 46.67% </b>"
   ]
  },
  {
   "cell_type": "code",
   "execution_count": 150,
   "metadata": {},
   "outputs": [
    {
     "name": "stdout",
     "output_type": "stream",
     "text": [
      "RMSE Value of Stochastic Gradient Descent Regression :   4.976402723796845\n",
      "Mean Absolute Error of Stochastic Gradient Descent Regression:   3.9893474700177514\n",
      "Mean Squared Error of Stochastic Gradient Descent Regression:   24.76458406941266\n"
     ]
    }
   ],
   "source": [
    "Y_predict_Test_sgdrModel = sgdrModel.predict(X_test)\n",
    "print (\"RMSE Value of Stochastic Gradient Descent Regression :  \", np.sqrt(metrics.mean_squared_error( Y_test,Y_predict_Test_sgdrModel)))\n",
    "print (\"Mean Absolute Error of Stochastic Gradient Descent Regression:  \",metrics.mean_absolute_error( Y_test,Y_predict_Test_sgdrModel))\n",
    "print (\"Mean Squared Error of Stochastic Gradient Descent Regression:  \",metrics.mean_squared_error( Y_test,Y_predict_Test_sgdrModel))"
   ]
  },
  {
   "cell_type": "code",
   "execution_count": 100,
   "metadata": {},
   "outputs": [
    {
     "data": {
      "image/png": "[encoded data removed]",
      "text/plain": [
       "<Figure size 432x288 with 1 Axes>"
      ]
     },
     "metadata": {
      "needs_background": "light"
     },
     "output_type": "display_data"
    }
   ],
   "source": [
    "plotsgdrModel = plt.axes()\n",
    "# we are going to use y_test, y_test_pred\n",
    "plotsgdrModel.scatter(Y_test, Y_predict_Test_sgdrModel, alpha=.5)\n",
    "\n",
    "plotsgdrModel.set(xlabel='Actual', \n",
    "       ylabel='Predictions',\n",
    "       title='Fare price Predictions vs Actual, using Stochastic Gradient Descent Regression');"
   ]
  },
  {
   "cell_type": "markdown",
   "metadata": {},
   "source": [
    "<b>Observations : </b> The scattered plot has low positive correlation since most of the values are scattered  which is evident from the accuracy value as well as the accuracy is low."
   ]
  },
  {
   "cell_type": "code",
   "execution_count": 204,
   "metadata": {},
   "outputs": [
    {
     "data": {
      "text/plain": [
       "<AxesSubplot:xlabel='Predicted Price', ylabel='Density'>"
      ]
     },
     "execution_count": 204,
     "metadata": {},
     "output_type": "execute_result"
    },
    {
     "data": {
      "image/png": "[encoded data removed]",
      "text/plain": [
       "<Figure size 432x288 with 1 Axes>"
      ]
     },
     "metadata": {
      "needs_background": "light"
     },
     "output_type": "display_data"
    }
   ],
   "source": [
    "dfPredict = pd.DataFrame({'Predicted Price':Y_predict_Test_sgdrModel})\n",
    "sns.distplot(dfPredict['Predicted Price'])"
   ]
  },
  {
   "cell_type": "markdown",
   "metadata": {},
   "source": [
    "<b> Observation :</b>  It is observed that between 10 to 20 dollars is high frequency price and least frequency price is between 30 to 40 dollars in the histogram."
   ]
  },
  {
   "cell_type": "markdown",
   "metadata": {},
   "source": [
    "### Decision Tree Regression Model"
   ]
  },
  {
   "cell_type": "code",
   "execution_count": 101,
   "metadata": {},
   "outputs": [
    {
     "data": {
      "text/plain": [
       "0.8918129442702647"
      ]
     },
     "execution_count": 101,
     "metadata": {},
     "output_type": "execute_result"
    }
   ],
   "source": [
    "dtModel = DecisionTreeRegressor(random_state = 0)  \n",
    "dtModel.fit(X_train, Y_train) \n",
    "dtModel.score(X_test, Y_test)"
   ]
  },
  {
   "cell_type": "markdown",
   "metadata": {},
   "source": [
    "<b> The accuracy of the DecisionTreeRegression Model is 89.18% </b>"
   ]
  },
  {
   "cell_type": "code",
   "execution_count": 151,
   "metadata": {},
   "outputs": [
    {
     "name": "stdout",
     "output_type": "stream",
     "text": [
      "RMSE Value of Decision Tree Regression :   2.2415707641123714\n",
      "Mean Absolute Error of Decision Tree Regression:   1.2668317085503542\n",
      "Mean Squared Error of Decision Tree Regression:   5.02463949052332\n"
     ]
    }
   ],
   "source": [
    "Y_predict_Test_dtModel = dtModel.predict(X_test)\n",
    "print (\"RMSE Value of Decision Tree Regression :  \", np.sqrt(metrics.mean_squared_error( Y_test,Y_predict_Test_dtModel)))\n",
    "print (\"Mean Absolute Error of Decision Tree Regression:  \",metrics.mean_absolute_error( Y_test,Y_predict_Test_dtModel))\n",
    "print (\"Mean Squared Error of Decision Tree Regression:  \",metrics.mean_squared_error( Y_test,Y_predict_Test_dtModel))"
   ]
  },
  {
   "cell_type": "code",
   "execution_count": 103,
   "metadata": {},
   "outputs": [
    {
     "data": {
      "image/png": "[encoded data removed]",
      "text/plain": [
       "<Figure size 432x288 with 1 Axes>"
      ]
     },
     "metadata": {
      "needs_background": "light"
     },
     "output_type": "display_data"
    }
   ],
   "source": [
    "plotDecisionTree = plt.axes()\n",
    "# we are going to use y_test, y_test_pred\n",
    "plotDecisionTree.scatter(Y_test, Y_predict_Test_dtModel, alpha=.5)\n",
    "\n",
    "plotDecisionTree.set(xlabel='Actual', \n",
    "       ylabel='Predictions',\n",
    "       title='Fare price Predictions vs Actual, using Decision Tree Regression');"
   ]
  },
  {
   "cell_type": "markdown",
   "metadata": {},
   "source": [
    "<b>Observations : </b> The scattered plot has  positive correlation since many of the values are overlapping and are close to each other but the values are little spreadout which is evident from the accuracy value as well as the accuracy is neither very low nor very high."
   ]
  },
  {
   "cell_type": "code",
   "execution_count": 202,
   "metadata": {},
   "outputs": [
    {
     "data": {
      "text/plain": [
       "<AxesSubplot:xlabel='Predicted Price', ylabel='Density'>"
      ]
     },
     "execution_count": 202,
     "metadata": {},
     "output_type": "execute_result"
    },
    {
     "data": {
      "image/png": "[encoded data removed]",
      "text/plain": [
       "<Figure size 432x288 with 1 Axes>"
      ]
     },
     "metadata": {
      "needs_background": "light"
     },
     "output_type": "display_data"
    }
   ],
   "source": [
    "dfPredict = pd.DataFrame({'Predicted Price':Y_predict_Test_dtModel})\n",
    "sns.distplot(dfPredict['Predicted Price'])"
   ]
  },
  {
   "cell_type": "markdown",
   "metadata": {},
   "source": [
    "<b> Observation :</b>  It is observed that  10  dollars has high frequency price and least frequency price is between 50 to 70 dollars in the histogram."
   ]
  },
  {
   "cell_type": "markdown",
   "metadata": {},
   "source": [
    "### KNearestNeighbors Regression"
   ]
  },
  {
   "cell_type": "code",
   "execution_count": 104,
   "metadata": {},
   "outputs": [
    {
     "data": {
      "text/plain": [
       "0.8697640897784767"
      ]
     },
     "execution_count": 104,
     "metadata": {},
     "output_type": "execute_result"
    }
   ],
   "source": [
    "knnrModel = KNeighborsRegressor(n_neighbors=9)\n",
    "knnrModel.fit(X_train, Y_train)\n",
    "knnrModel.score(X_test, Y_test)"
   ]
  },
  {
   "cell_type": "markdown",
   "metadata": {},
   "source": [
    "<b> The accuracy of the KNeighborsRegressor Model is 86.97% </b>"
   ]
  },
  {
   "cell_type": "code",
   "execution_count": 153,
   "metadata": {},
   "outputs": [
    {
     "name": "stdout",
     "output_type": "stream",
     "text": [
      "RMSE Value of KNearestNeighbors Regression :   2.4594057133591916\n",
      "Mean Absolute Error of KNearestNeighbors Regression:   1.4416554045691938\n",
      "Mean Squared Error of KNearestNeighbors Regression:   6.048676462903833\n"
     ]
    }
   ],
   "source": [
    "Y_predict_Test_knnrModel = knnrModel.predict(X_test)\n",
    "print (\"RMSE Value of KNearestNeighbors Regression :  \", np.sqrt(metrics.mean_squared_error( Y_test,Y_predict_Test_knnrModel)))\n",
    "print (\"Mean Absolute Error of KNearestNeighbors Regression:  \",metrics.mean_absolute_error( Y_test,Y_predict_Test_knnrModel))\n",
    "print (\"Mean Squared Error of KNearestNeighbors Regression:  \",metrics.mean_squared_error( Y_test,Y_predict_Test_knnrModel))"
   ]
  },
  {
   "cell_type": "code",
   "execution_count": 106,
   "metadata": {},
   "outputs": [
    {
     "data": {
      "image/png": "[encoded data removed]",
      "text/plain": [
       "<Figure size 432x288 with 1 Axes>"
      ]
     },
     "metadata": {
      "needs_background": "light"
     },
     "output_type": "display_data"
    }
   ],
   "source": [
    "plotknnrModel = plt.axes()\n",
    "# we are going to use y_test, y_test_pred\n",
    "plotknnrModel.scatter(Y_test, Y_predict_Test_knnrModel, alpha=.5)\n",
    "\n",
    "plotknnrModel.set(xlabel='Actual', \n",
    "       ylabel='Predictions',\n",
    "       title='Fare price Predictions vs Actual, using KNearestNeighbors Regression');"
   ]
  },
  {
   "cell_type": "markdown",
   "metadata": {},
   "source": [
    "<b>Observations : </b> The scattered plot has  positive correlation since many of the values are overlapping and are close to each other but the values are little spreadout which is evident from the accuracy value as well as the accuracy is neither very low nor very high."
   ]
  },
  {
   "cell_type": "code",
   "execution_count": 201,
   "metadata": {},
   "outputs": [
    {
     "data": {
      "text/plain": [
       "<AxesSubplot:xlabel='Predicted Price', ylabel='Density'>"
      ]
     },
     "execution_count": 201,
     "metadata": {},
     "output_type": "execute_result"
    },
    {
     "data": {
      "image/png": "[encoded data removed]",
      "text/plain": [
       "<Figure size 432x288 with 1 Axes>"
      ]
     },
     "metadata": {
      "needs_background": "light"
     },
     "output_type": "display_data"
    }
   ],
   "source": [
    "dfPredict = pd.DataFrame({'Predicted Price':Y_predict_Test_knnrModel})\n",
    "sns.distplot(dfPredict['Predicted Price'])"
   ]
  },
  {
   "cell_type": "markdown",
   "metadata": {},
   "source": [
    "<b> Observation :</b>  It is observed that  10  dollars has high frequency price and least frequency price is 40 dollars in the histogram."
   ]
  },
  {
   "cell_type": "markdown",
   "metadata": {},
   "source": [
    "### Random Forest Regression Model"
   ]
  },
  {
   "cell_type": "code",
   "execution_count": 107,
   "metadata": {},
   "outputs": [
    {
     "data": {
      "text/plain": [
       "0.9295983512458552"
      ]
     },
     "execution_count": 107,
     "metadata": {},
     "output_type": "execute_result"
    }
   ],
   "source": [
    "rFModel = RandomForestRegressor(n_estimators = 100, random_state = 0) \n",
    "rFModel.fit(X_train, Y_train)  \n",
    "rFModel.score(X_test, Y_test)"
   ]
  },
  {
   "cell_type": "markdown",
   "metadata": {},
   "source": [
    "<b> The accuracy of the RandomForestRegression Model is 92.95 % </b>"
   ]
  },
  {
   "cell_type": "code",
   "execution_count": 154,
   "metadata": {},
   "outputs": [
    {
     "name": "stdout",
     "output_type": "stream",
     "text": [
      "RMSE Value of Random Forest Regression :   1.8082406070216104\n",
      "Mean Absolute Error of Random Forest Regression:   1.1171877102285424\n",
      "Mean Squared Error of Random Forest Regression:   3.2697340928818823\n"
     ]
    }
   ],
   "source": [
    "Y_predict_Test_rFModel = rFModel.predict(X_test)\n",
    "print (\"RMSE Value of Random Forest Regression :  \", np.sqrt(metrics.mean_squared_error( Y_test,Y_predict_Test_rFModel)))\n",
    "print (\"Mean Absolute Error of Random Forest Regression:  \",metrics.mean_absolute_error( Y_test,Y_predict_Test_rFModel))\n",
    "print (\"Mean Squared Error of Random Forest Regression:  \",metrics.mean_squared_error( Y_test,Y_predict_Test_rFModel))"
   ]
  },
  {
   "cell_type": "code",
   "execution_count": 109,
   "metadata": {},
   "outputs": [
    {
     "data": {
      "image/png": "[encoded data removed]",
      "text/plain": [
       "<Figure size 432x288 with 1 Axes>"
      ]
     },
     "metadata": {
      "needs_background": "light"
     },
     "output_type": "display_data"
    }
   ],
   "source": [
    "plotRandomForest = plt.axes()\n",
    "# we are going to use y_test, y_test_pred\n",
    "plotRandomForest.scatter(Y_test, Y_predict_Test_rFModel, alpha=.5)\n",
    "\n",
    "plotRandomForest.set(xlabel='Actual', \n",
    "       ylabel='Predictions',\n",
    "       title='Fare price Predictions vs Actual, using Random Forest Regression');"
   ]
  },
  {
   "cell_type": "markdown",
   "metadata": {},
   "source": [
    "<b>Observations : </b> The scattered plot has high positive correlation since most of the values are overlapping and very close to each other which is evident from the accuracy value as well as the accuracy is high."
   ]
  },
  {
   "cell_type": "code",
   "execution_count": 200,
   "metadata": {},
   "outputs": [
    {
     "data": {
      "text/plain": [
       "<AxesSubplot:xlabel='Predicted Price', ylabel='Density'>"
      ]
     },
     "execution_count": 200,
     "metadata": {},
     "output_type": "execute_result"
    },
    {
     "data": {
      "image/png": "[encoded data removed]",
      "text/plain": [
       "<Figure size 432x288 with 1 Axes>"
      ]
     },
     "metadata": {
      "needs_background": "light"
     },
     "output_type": "display_data"
    }
   ],
   "source": [
    "dfPredict = pd.DataFrame({'Predicted Price':Y_predict_Test_rFModel})\n",
    "sns.distplot(dfPredict['Predicted Price'])"
   ]
  },
  {
   "cell_type": "markdown",
   "metadata": {},
   "source": [
    "<b> Observation :</b>  It is observed that  10  dollars has high frequency price and least frequency price is between 50 to 70 dollars in the histogram."
   ]
  },
  {
   "cell_type": "markdown",
   "metadata": {},
   "source": [
    "### LGBM Regression"
   ]
  },
  {
   "cell_type": "code",
   "execution_count": 110,
   "metadata": {},
   "outputs": [
    {
     "data": {
      "text/plain": [
       "0.9410940818160131"
      ]
     },
     "execution_count": 110,
     "metadata": {},
     "output_type": "execute_result"
    }
   ],
   "source": [
    "lgbModel = ltgm.LGBMRegressor()\n",
    "lgbModel.fit(X_train, Y_train)\n",
    "lgbModel.score(X_test, Y_test)"
   ]
  },
  {
   "cell_type": "markdown",
   "metadata": {},
   "source": [
    "<b> The accuracy of the LGBMRegression Model is 94.10 % </b>"
   ]
  },
  {
   "cell_type": "code",
   "execution_count": 155,
   "metadata": {},
   "outputs": [
    {
     "name": "stdout",
     "output_type": "stream",
     "text": [
      "RMSE Value of LGBM Regression :   1.6540333719872453\n",
      "Mean Absolute Error of LGBM Regression:   1.059254639783308\n",
      "Mean Squared Error of LGBM Regression:   2.7358263956474973\n"
     ]
    }
   ],
   "source": [
    "Y_predict_Test_lgbModel = lgbModel.predict(X_test)\n",
    "print (\"RMSE Value of LGBM Regression :  \", np.sqrt(metrics.mean_squared_error( Y_test,Y_predict_Test_lgbModel)))\n",
    "print (\"Mean Absolute Error of LGBM Regression:  \",metrics.mean_absolute_error( Y_test,Y_predict_Test_lgbModel))\n",
    "print (\"Mean Squared Error of LGBM Regression:  \",metrics.mean_squared_error( Y_test,Y_predict_Test_lgbModel))"
   ]
  },
  {
   "cell_type": "code",
   "execution_count": 112,
   "metadata": {},
   "outputs": [
    {
     "data": {
      "image/png": "[encoded data removed]",
      "text/plain": [
       "<Figure size 432x288 with 1 Axes>"
      ]
     },
     "metadata": {
      "needs_background": "light"
     },
     "output_type": "display_data"
    }
   ],
   "source": [
    "plotLGBMRegressor = plt.axes()\n",
    "# we are going to use y_test, y_test_pred\n",
    "plotLGBMRegressor.scatter(Y_test, Y_predict_Test_lgbModel, alpha=.5)\n",
    "\n",
    "plotLGBMRegressor.set(xlabel='Actual', \n",
    "       ylabel='Predictions',\n",
    "       title='Fare price Predictions vs Actual, using LGBM Regression');"
   ]
  },
  {
   "cell_type": "markdown",
   "metadata": {},
   "source": [
    "<b>Observations : </b> The scattered plot has high positive correlation since most of the values are overlapping and very close to each other which is evident from the accuracy value as well as the accuracy is high."
   ]
  },
  {
   "cell_type": "code",
   "execution_count": 199,
   "metadata": {},
   "outputs": [
    {
     "data": {
      "text/plain": [
       "<AxesSubplot:xlabel='Predicted Price', ylabel='Density'>"
      ]
     },
     "execution_count": 199,
     "metadata": {},
     "output_type": "execute_result"
    },
    {
     "data": {
      "image/png": "[encoded data removed]",
      "text/plain": [
       "<Figure size 432x288 with 1 Axes>"
      ]
     },
     "metadata": {
      "needs_background": "light"
     },
     "output_type": "display_data"
    }
   ],
   "source": [
    "dfPredict = pd.DataFrame({'Predicted Price':Y_predict_Test_lgbModel})\n",
    "sns.distplot(dfPredict['Predicted Price'])"
   ]
  },
  {
   "cell_type": "markdown",
   "metadata": {},
   "source": [
    "<b> Observation :</b>  It is observed that  10  dollars has high frequency price and least frequency price is between 50 to 70 dollars in the histogram."
   ]
  },
  {
   "cell_type": "markdown",
   "metadata": {},
   "source": [
    "### Gradient Boosting Regression"
   ]
  },
  {
   "cell_type": "code",
   "execution_count": 113,
   "metadata": {},
   "outputs": [
    {
     "data": {
      "text/plain": [
       "0.9407812970381052"
      ]
     },
     "execution_count": 113,
     "metadata": {},
     "output_type": "execute_result"
    }
   ],
   "source": [
    "gbrModel = ensemble.GradientBoostingRegressor(n_estimators = 300, max_depth = 4)\n",
    "gbrModel.fit(X_train, Y_train)\n",
    "gbrModel.score(X_test, Y_test)"
   ]
  },
  {
   "cell_type": "markdown",
   "metadata": {},
   "source": [
    "<b> The accuracy of the GradientBoostingRegression Model is 94.07 % </b>"
   ]
  },
  {
   "cell_type": "code",
   "execution_count": 156,
   "metadata": {},
   "outputs": [
    {
     "name": "stdout",
     "output_type": "stream",
     "text": [
      "RMSE Value of Gradient Boost Regression:   1.6584189372739857\n",
      "Mean Absolute Error of Gradient Boost Regression:   1.0633891263659199\n",
      "Mean Squared Error of Gradient Boost Regression:   2.750353371508976\n"
     ]
    }
   ],
   "source": [
    "Y_predict_Test_gbrModel = gbrModel.predict(X_test)\n",
    "print (\"RMSE Value of Gradient Boost Regression:  \", np.sqrt(metrics.mean_squared_error( Y_test,Y_predict_Test_gbrModel)))\n",
    "print (\"Mean Absolute Error of Gradient Boost Regression:  \",metrics.mean_absolute_error( Y_test,Y_predict_Test_gbrModel))\n",
    "print (\"Mean Squared Error of Gradient Boost Regression:  \",metrics.mean_squared_error( Y_test,Y_predict_Test_gbrModel))"
   ]
  },
  {
   "cell_type": "code",
   "execution_count": 115,
   "metadata": {},
   "outputs": [
    {
     "data": {
      "image/png": "[encoded data removed]",
      "text/plain": [
       "<Figure size 432x288 with 1 Axes>"
      ]
     },
     "metadata": {
      "needs_background": "light"
     },
     "output_type": "display_data"
    }
   ],
   "source": [
    "plotGradientBoost = plt.axes()\n",
    "# we are going to use y_test, y_test_pred\n",
    "plotGradientBoost.scatter(Y_test, Y_predict_Test_gbrModel, alpha=.5)\n",
    "\n",
    "plotGradientBoost.set(xlabel='Actual', \n",
    "       ylabel='Predictions',\n",
    "       title='Fare price Predictions vs Actual, using Gradient Boost Regression');"
   ]
  },
  {
   "cell_type": "markdown",
   "metadata": {},
   "source": [
    "<b>Observations : </b> The scattered plot has high positive correlation since most of the values are overlapping and very close to each other which is evident from the accuracy value as well as the accuracy is high."
   ]
  },
  {
   "cell_type": "code",
   "execution_count": 198,
   "metadata": {},
   "outputs": [
    {
     "data": {
      "text/plain": [
       "<AxesSubplot:xlabel='Predicted Price', ylabel='Density'>"
      ]
     },
     "execution_count": 198,
     "metadata": {},
     "output_type": "execute_result"
    },
    {
     "data": {
      "image/png": "[encoded data removed]",
      "text/plain": [
       "<Figure size 432x288 with 1 Axes>"
      ]
     },
     "metadata": {
      "needs_background": "light"
     },
     "output_type": "display_data"
    }
   ],
   "source": [
    "dfPredict = pd.DataFrame({'Predicted Price':Y_predict_Test_gbrModel})\n",
    "sns.distplot(dfPredict['Predicted Price'])"
   ]
  },
  {
   "cell_type": "markdown",
   "metadata": {},
   "source": [
    "<b> Observation :</b>  It is observed that  10  dollars has high frequency price and least frequency price is between 50 to 70 dollars in the histogram."
   ]
  },
  {
   "cell_type": "markdown",
   "metadata": {},
   "source": [
    "### ElasticNet Regression"
   ]
  },
  {
   "cell_type": "code",
   "execution_count": 116,
   "metadata": {},
   "outputs": [
    {
     "data": {
      "text/plain": [
       "0.4086845227893885"
      ]
     },
     "execution_count": 116,
     "metadata": {},
     "output_type": "execute_result"
    }
   ],
   "source": [
    "elNetregrModel = ElasticNet(random_state=0)\n",
    "elNetregrModel.fit(X_train, Y_train)\n",
    "elNetregrModel.score(X_test, Y_test)"
   ]
  },
  {
   "cell_type": "markdown",
   "metadata": {},
   "source": [
    "<b> The accuracy of the ElasticNetRegression Model is 40.86 % </b>"
   ]
  },
  {
   "cell_type": "code",
   "execution_count": 161,
   "metadata": {},
   "outputs": [
    {
     "name": "stdout",
     "output_type": "stream",
     "text": [
      "RMSE Value of ElasticNet Regression:   5.240520521479743\n",
      "Mean Absolute Error of ElasticNet Regression:   4.2069361983819675\n",
      "Mean Squared Error of ElasticNet Regression:   27.46305533605032\n"
     ]
    }
   ],
   "source": [
    "Y_predict_Test_elNetregrModel= elNetregrModel.predict(X_test)\n",
    "print (\"RMSE Value of ElasticNet Regression:  \", np.sqrt(metrics.mean_squared_error( Y_test,Y_predict_Test_elNetregrModel)))\n",
    "print (\"Mean Absolute Error of ElasticNet Regression:  \",metrics.mean_absolute_error( Y_test,Y_predict_Test_elNetregrModel))\n",
    "print (\"Mean Squared Error of ElasticNet Regression:  \",metrics.mean_squared_error( Y_test,Y_predict_Test_elNetregrModel))"
   ]
  },
  {
   "cell_type": "code",
   "execution_count": 118,
   "metadata": {},
   "outputs": [
    {
     "data": {
      "image/png": "[encoded data removed]",
      "text/plain": [
       "<Figure size 432x288 with 1 Axes>"
      ]
     },
     "metadata": {
      "needs_background": "light"
     },
     "output_type": "display_data"
    }
   ],
   "source": [
    "plotelNetregrModel = plt.axes()\n",
    "# we are going to use y_test, y_test_pred\n",
    "plotelNetregrModel.scatter(Y_test, Y_predict_Test_elNetregrModel, alpha=.5)\n",
    "\n",
    "plotelNetregrModel.set(xlabel='Actual', \n",
    "       ylabel='Predictions',\n",
    "       title='Fare price Predictions vs Actual, using ElasticNet Regression');"
   ]
  },
  {
   "cell_type": "markdown",
   "metadata": {},
   "source": [
    "<b>Observations : </b> The scattered plot has low positive correlation since most of the values are scattered  which is evident from the accuracy value as well as the accuracy is low."
   ]
  },
  {
   "cell_type": "code",
   "execution_count": 196,
   "metadata": {},
   "outputs": [
    {
     "data": {
      "text/plain": [
       "<AxesSubplot:xlabel='Predicted Price', ylabel='Density'>"
      ]
     },
     "execution_count": 196,
     "metadata": {},
     "output_type": "execute_result"
    },
    {
     "data": {
      "image/png": "[encoded data removed]",
      "text/plain": [
       "<Figure size 432x288 with 1 Axes>"
      ]
     },
     "metadata": {
      "needs_background": "light"
     },
     "output_type": "display_data"
    }
   ],
   "source": [
    "dfPredict = pd.DataFrame({'Predicted Price':Y_predict_Test_elNetregrModel})\n",
    "sns.distplot(dfPredict['Predicted Price'])"
   ]
  },
  {
   "cell_type": "markdown",
   "metadata": {},
   "source": [
    "<b> Observation :</b>  It is observed that values between 15 to 17  dollars has high frequency price and least frequency price is 25 dollars in the histogram."
   ]
  },
  {
   "cell_type": "markdown",
   "metadata": {},
   "source": [
    "### "
   ]
  },
  {
   "cell_type": "markdown",
   "metadata": {},
   "source": [
    "### BayesianRidge Regression Model"
   ]
  },
  {
   "cell_type": "code",
   "execution_count": 119,
   "metadata": {},
   "outputs": [
    {
     "data": {
      "text/plain": [
       "0.49073956928313156"
      ]
     },
     "execution_count": 119,
     "metadata": {},
     "output_type": "execute_result"
    }
   ],
   "source": [
    "brModel = linear_model.BayesianRidge()\n",
    "brModel.fit(X_train, Y_train)\n",
    "brModel.score(X_test, Y_test)"
   ]
  },
  {
   "cell_type": "markdown",
   "metadata": {},
   "source": [
    "<b> The accuracy of the BayesianRidgeRegression Model is 49.07 % </b>"
   ]
  },
  {
   "cell_type": "code",
   "execution_count": 158,
   "metadata": {},
   "outputs": [
    {
     "name": "stdout",
     "output_type": "stream",
     "text": [
      "RMSE Value of BayesianRidge Regression:   4.863341531508956\n",
      "Mean Absolute Error of BayesianRidge Regression:   3.9776557831906807\n",
      "Mean Squared Error of BayesianRidge Regression:   23.652090852099878\n"
     ]
    }
   ],
   "source": [
    "Y_predict_Test_brModel= brModel.predict(X_test)\n",
    "print (\"RMSE Value of BayesianRidge Regression:  \", np.sqrt(metrics.mean_squared_error( Y_test,Y_predict_Test_brModel)))\n",
    "print (\"Mean Absolute Error of BayesianRidge Regression:  \",metrics.mean_absolute_error( Y_test,Y_predict_Test_brModel))\n",
    "print (\"Mean Squared Error of BayesianRidge Regression:  \",metrics.mean_squared_error( Y_test,Y_predict_Test_brModel))"
   ]
  },
  {
   "cell_type": "code",
   "execution_count": 121,
   "metadata": {},
   "outputs": [
    {
     "data": {
      "image/png": "[encoded data removed]",
      "text/plain": [
       "<Figure size 432x288 with 1 Axes>"
      ]
     },
     "metadata": {
      "needs_background": "light"
     },
     "output_type": "display_data"
    }
   ],
   "source": [
    "plotbrModel = plt.axes()\n",
    "# we are going to use y_test, y_test_pred\n",
    "plotbrModel.scatter(Y_test, Y_predict_Test_brModel, alpha=.5)\n",
    "\n",
    "plotbrModel.set(xlabel='Actual', \n",
    "       ylabel='Predictions',\n",
    "       title='Fare price Predictions vs Actual, using BayesianRidge Regression');"
   ]
  },
  {
   "cell_type": "markdown",
   "metadata": {},
   "source": [
    "<b>Observations : </b> The scattered plot has low positive correlation since most of the values are scattered  which is evident from the accuracy value as well as the accuracy is low."
   ]
  },
  {
   "cell_type": "code",
   "execution_count": 195,
   "metadata": {},
   "outputs": [
    {
     "data": {
      "text/plain": [
       "<AxesSubplot:xlabel='Predicted Price', ylabel='Density'>"
      ]
     },
     "execution_count": 195,
     "metadata": {},
     "output_type": "execute_result"
    },
    {
     "data": {
      "image/png": "[encoded data removed]",
      "text/plain": [
       "<Figure size 432x288 with 1 Axes>"
      ]
     },
     "metadata": {
      "needs_background": "light"
     },
     "output_type": "display_data"
    }
   ],
   "source": [
    "dfPredict = pd.DataFrame({'Predicted Price':Y_predict_Test_brModel})\n",
    "sns.distplot(dfPredict['Predicted Price'])"
   ]
  },
  {
   "cell_type": "markdown",
   "metadata": {},
   "source": [
    "<b> Observation :</b>  It is observed that values between 10 to 20  dollars has high frequency price and least frequency price is 40 dollars in the histogram"
   ]
  },
  {
   "cell_type": "markdown",
   "metadata": {},
   "source": [
    "### CatBoost Regression Model "
   ]
  },
  {
   "cell_type": "code",
   "execution_count": 122,
   "metadata": {},
   "outputs": [
    {
     "data": {
      "text/plain": [
       "0.9417503258585314"
      ]
     },
     "execution_count": 122,
     "metadata": {},
     "output_type": "execute_result"
    }
   ],
   "source": [
    "catBoostmodel = CatBoostRegressor(verbose=0, n_estimators=100)\n",
    "catBoostmodel.fit(X_train, Y_train)\n",
    "catBoostmodel.score(X_test, Y_test)"
   ]
  },
  {
   "cell_type": "markdown",
   "metadata": {},
   "source": [
    "<b> The accuracy of the CatBoostRegression Model is 94.17 % </b>"
   ]
  },
  {
   "cell_type": "code",
   "execution_count": 160,
   "metadata": {},
   "outputs": [
    {
     "name": "stdout",
     "output_type": "stream",
     "text": [
      "RMSE Value of CatBoost Regression:   1.6447941506765476\n",
      "Mean Absolute Error of CatBoost Regression:   1.05477946206084\n",
      "Mean Squared Error of CatBoost Regression:   2.705347798099785\n"
     ]
    }
   ],
   "source": [
    "Y_predict_Test_catBoostmodel= catBoostmodel.predict(X_test)\n",
    "print (\"RMSE Value of CatBoost Regression:  \", np.sqrt(metrics.mean_squared_error( Y_test,Y_predict_Test_catBoostmodel)))\n",
    "print (\"Mean Absolute Error of CatBoost Regression:  \",metrics.mean_absolute_error( Y_test,Y_predict_Test_catBoostmodel))\n",
    "print (\"Mean Squared Error of CatBoost Regression:  \",metrics.mean_squared_error( Y_test,Y_predict_Test_catBoostmodel))"
   ]
  },
  {
   "cell_type": "code",
   "execution_count": 124,
   "metadata": {},
   "outputs": [
    {
     "data": {
      "image/png": "[encoded data removed]",
      "text/plain": [
       "<Figure size 432x288 with 1 Axes>"
      ]
     },
     "metadata": {
      "needs_background": "light"
     },
     "output_type": "display_data"
    }
   ],
   "source": [
    "plotcatBoostmodel = plt.axes()\n",
    "# we are going to use y_test, y_test_pred\n",
    "plotcatBoostmodel.scatter(Y_test, Y_predict_Test_catBoostmodel, alpha=.5)\n",
    "\n",
    "plotcatBoostmodel.set(xlabel='Actual', \n",
    "       ylabel='Predictions',\n",
    "       title='Fare price Predictions vs Actual, using CatBoost Regression');"
   ]
  },
  {
   "cell_type": "markdown",
   "metadata": {},
   "source": [
    "<b>Observations : </b> The scattered plot has high positive correlation since most of the values are overlapping and very close to each other which is evident from the accuracy value as well as the accuracy is high."
   ]
  },
  {
   "cell_type": "code",
   "execution_count": 194,
   "metadata": {},
   "outputs": [
    {
     "data": {
      "text/plain": [
       "<AxesSubplot:xlabel='Predicted Price', ylabel='Density'>"
      ]
     },
     "execution_count": 194,
     "metadata": {},
     "output_type": "execute_result"
    },
    {
     "data": {
      "image/png": "[encoded data removed]",
      "text/plain": [
       "<Figure size 432x288 with 1 Axes>"
      ]
     },
     "metadata": {
      "needs_background": "light"
     },
     "output_type": "display_data"
    }
   ],
   "source": [
    "dfPredict = pd.DataFrame({'Predicted Price':Y_predict_Test_catBoostmodel})\n",
    "sns.distplot(dfPredict['Predicted Price'])"
   ]
  },
  {
   "cell_type": "markdown",
   "metadata": {},
   "source": [
    "<b>Observation</b> It is observed that most of the cab price frequency is near to 10 dollars and least frequency is between 50 to 70 dollars from the histogram graph."
   ]
  },
  {
   "cell_type": "markdown",
   "metadata": {},
   "source": [
    "### Hyperparameters employed to fine-tune our CatBoost model."
   ]
  },
  {
   "cell_type": "markdown",
   "metadata": {},
   "source": [
    "1 . The n_estimators is increased to 200 and tested."
   ]
  },
  {
   "cell_type": "code",
   "execution_count": 168,
   "metadata": {},
   "outputs": [
    {
     "data": {
      "text/plain": [
       "0.9425257742976305"
      ]
     },
     "execution_count": 168,
     "metadata": {},
     "output_type": "execute_result"
    }
   ],
   "source": [
    "catBoostmodel1 = CatBoostRegressor(verbose=0, n_estimators=200)\n",
    "catBoostmodel1.fit(X_train, Y_train)\n",
    "catBoostmodel1.score(X_test, Y_test)"
   ]
  },
  {
   "cell_type": "markdown",
   "metadata": {},
   "source": [
    "The accuracy is 94.25 %"
   ]
  },
  {
   "cell_type": "markdown",
   "metadata": {},
   "source": [
    "2. The verbose is increased to 1 and tested."
   ]
  },
  {
   "cell_type": "code",
   "execution_count": 169,
   "metadata": {},
   "outputs": [
    {
     "name": "stdout",
     "output_type": "stream",
     "text": [
      "Learning rate set to 0.365171\n",
      "0:\tlearn: 4.7826753\ttotal: 83.7ms\tremaining: 16.7s\n",
      "1:\tlearn: 3.4887139\ttotal: 175ms\tremaining: 17.4s\n",
      "2:\tlearn: 2.7444352\ttotal: 242ms\tremaining: 15.9s\n",
      "3:\tlearn: 2.3432056\ttotal: 309ms\tremaining: 15.2s\n",
      "4:\tlearn: 2.1254153\ttotal: 377ms\tremaining: 14.7s\n",
      "5:\tlearn: 2.0123684\ttotal: 449ms\tremaining: 14.5s\n",
      "6:\tlearn: 1.9480501\ttotal: 515ms\tremaining: 14.2s\n",
      "7:\tlearn: 1.9125989\ttotal: 590ms\tremaining: 14.2s\n",
      "8:\tlearn: 1.8842512\ttotal: 665ms\tremaining: 14.1s\n",
      "9:\tlearn: 1.8674131\ttotal: 729ms\tremaining: 13.9s\n",
      "10:\tlearn: 1.8574542\ttotal: 791ms\tremaining: 13.6s\n",
      "11:\tlearn: 1.8446480\ttotal: 861ms\tremaining: 13.5s\n",
      "12:\tlearn: 1.8357680\ttotal: 932ms\tremaining: 13.4s\n",
      "13:\tlearn: 1.8245813\ttotal: 998ms\tremaining: 13.3s\n",
      "14:\tlearn: 1.8174436\ttotal: 1.07s\tremaining: 13.2s\n",
      "15:\tlearn: 1.8136161\ttotal: 1.13s\tremaining: 13s\n",
      "16:\tlearn: 1.8047576\ttotal: 1.19s\tremaining: 12.8s\n",
      "17:\tlearn: 1.7998136\ttotal: 1.26s\tremaining: 12.7s\n",
      "18:\tlearn: 1.7943312\ttotal: 1.34s\tremaining: 12.7s\n",
      "19:\tlearn: 1.7923419\ttotal: 1.4s\tremaining: 12.6s\n",
      "20:\tlearn: 1.7893676\ttotal: 1.46s\tremaining: 12.5s\n",
      "21:\tlearn: 1.7848238\ttotal: 1.53s\tremaining: 12.4s\n",
      "22:\tlearn: 1.7812880\ttotal: 1.62s\tremaining: 12.5s\n",
      "23:\tlearn: 1.7776397\ttotal: 1.68s\tremaining: 12.3s\n",
      "24:\tlearn: 1.7735140\ttotal: 1.75s\tremaining: 12.2s\n",
      "25:\tlearn: 1.7718243\ttotal: 1.8s\tremaining: 12.1s\n",
      "26:\tlearn: 1.7668729\ttotal: 1.9s\tremaining: 12.2s\n",
      "27:\tlearn: 1.7648897\ttotal: 1.97s\tremaining: 12.1s\n",
      "28:\tlearn: 1.7630104\ttotal: 2.03s\tremaining: 12s\n",
      "29:\tlearn: 1.7613681\ttotal: 2.1s\tremaining: 11.9s\n",
      "30:\tlearn: 1.7590660\ttotal: 2.19s\tremaining: 11.9s\n",
      "31:\tlearn: 1.7577182\ttotal: 2.26s\tremaining: 11.9s\n",
      "32:\tlearn: 1.7557604\ttotal: 2.32s\tremaining: 11.8s\n",
      "33:\tlearn: 1.7534357\ttotal: 2.4s\tremaining: 11.7s\n",
      "34:\tlearn: 1.7521373\ttotal: 2.47s\tremaining: 11.6s\n",
      "35:\tlearn: 1.7506245\ttotal: 2.54s\tremaining: 11.6s\n",
      "36:\tlearn: 1.7498913\ttotal: 2.62s\tremaining: 11.5s\n",
      "37:\tlearn: 1.7479353\ttotal: 2.69s\tremaining: 11.5s\n",
      "38:\tlearn: 1.7459298\ttotal: 2.77s\tremaining: 11.4s\n",
      "39:\tlearn: 1.7447830\ttotal: 2.85s\tremaining: 11.4s\n",
      "40:\tlearn: 1.7419932\ttotal: 2.93s\tremaining: 11.4s\n",
      "41:\tlearn: 1.7410280\ttotal: 3s\tremaining: 11.3s\n",
      "42:\tlearn: 1.7398383\ttotal: 3.07s\tremaining: 11.2s\n",
      "43:\tlearn: 1.7352243\ttotal: 3.14s\tremaining: 11.1s\n",
      "44:\tlearn: 1.7339208\ttotal: 3.22s\tremaining: 11.1s\n",
      "45:\tlearn: 1.7332543\ttotal: 3.29s\tremaining: 11s\n",
      "46:\tlearn: 1.7316287\ttotal: 3.37s\tremaining: 11s\n",
      "47:\tlearn: 1.7307930\ttotal: 3.45s\tremaining: 10.9s\n",
      "48:\tlearn: 1.7296274\ttotal: 3.53s\tremaining: 10.9s\n",
      "49:\tlearn: 1.7285990\ttotal: 3.7s\tremaining: 11.1s\n",
      "50:\tlearn: 1.7275485\ttotal: 3.77s\tremaining: 11s\n",
      "51:\tlearn: 1.7266168\ttotal: 3.85s\tremaining: 11s\n",
      "52:\tlearn: 1.7254986\ttotal: 3.92s\tremaining: 10.9s\n",
      "53:\tlearn: 1.7243344\ttotal: 3.99s\tremaining: 10.8s\n",
      "54:\tlearn: 1.7234134\ttotal: 4.06s\tremaining: 10.7s\n",
      "55:\tlearn: 1.7227154\ttotal: 4.13s\tremaining: 10.6s\n",
      "56:\tlearn: 1.7207419\ttotal: 4.2s\tremaining: 10.5s\n",
      "57:\tlearn: 1.7197874\ttotal: 4.28s\tremaining: 10.5s\n",
      "58:\tlearn: 1.7189437\ttotal: 4.33s\tremaining: 10.4s\n",
      "59:\tlearn: 1.7179079\ttotal: 4.4s\tremaining: 10.3s\n",
      "60:\tlearn: 1.7174501\ttotal: 4.48s\tremaining: 10.2s\n",
      "61:\tlearn: 1.7169678\ttotal: 4.54s\tremaining: 10.1s\n",
      "62:\tlearn: 1.7161713\ttotal: 4.61s\tremaining: 10s\n",
      "63:\tlearn: 1.7157461\ttotal: 4.68s\tremaining: 9.94s\n",
      "64:\tlearn: 1.7150943\ttotal: 4.75s\tremaining: 9.86s\n",
      "65:\tlearn: 1.7137051\ttotal: 4.82s\tremaining: 9.78s\n",
      "66:\tlearn: 1.7131814\ttotal: 4.9s\tremaining: 9.73s\n",
      "67:\tlearn: 1.7122661\ttotal: 4.97s\tremaining: 9.65s\n",
      "68:\tlearn: 1.7107838\ttotal: 5.04s\tremaining: 9.57s\n",
      "69:\tlearn: 1.7101114\ttotal: 5.11s\tremaining: 9.49s\n",
      "70:\tlearn: 1.7097311\ttotal: 5.17s\tremaining: 9.4s\n",
      "71:\tlearn: 1.7094719\ttotal: 5.24s\tremaining: 9.31s\n",
      "72:\tlearn: 1.7086515\ttotal: 5.33s\tremaining: 9.27s\n",
      "73:\tlearn: 1.7079626\ttotal: 5.4s\tremaining: 9.19s\n",
      "74:\tlearn: 1.7076450\ttotal: 5.47s\tremaining: 9.12s\n",
      "75:\tlearn: 1.7071441\ttotal: 5.54s\tremaining: 9.03s\n",
      "76:\tlearn: 1.7065460\ttotal: 5.61s\tremaining: 8.96s\n",
      "77:\tlearn: 1.7055856\ttotal: 5.67s\tremaining: 8.87s\n",
      "78:\tlearn: 1.7049387\ttotal: 5.73s\tremaining: 8.78s\n",
      "79:\tlearn: 1.7041704\ttotal: 5.8s\tremaining: 8.71s\n",
      "80:\tlearn: 1.7034537\ttotal: 5.87s\tremaining: 8.62s\n",
      "81:\tlearn: 1.7029631\ttotal: 5.92s\tremaining: 8.52s\n",
      "82:\tlearn: 1.7025790\ttotal: 5.97s\tremaining: 8.42s\n",
      "83:\tlearn: 1.7019059\ttotal: 6.04s\tremaining: 8.34s\n",
      "84:\tlearn: 1.7011679\ttotal: 6.1s\tremaining: 8.25s\n",
      "85:\tlearn: 1.7005349\ttotal: 6.15s\tremaining: 8.15s\n",
      "86:\tlearn: 1.7000772\ttotal: 6.2s\tremaining: 8.05s\n",
      "87:\tlearn: 1.6993413\ttotal: 6.29s\tremaining: 8s\n",
      "88:\tlearn: 1.6989211\ttotal: 6.33s\tremaining: 7.9s\n",
      "89:\tlearn: 1.6984191\ttotal: 6.4s\tremaining: 7.82s\n",
      "90:\tlearn: 1.6979531\ttotal: 6.44s\tremaining: 7.72s\n",
      "91:\tlearn: 1.6969169\ttotal: 6.5s\tremaining: 7.63s\n",
      "92:\tlearn: 1.6966977\ttotal: 6.54s\tremaining: 7.53s\n",
      "93:\tlearn: 1.6963397\ttotal: 6.61s\tremaining: 7.45s\n",
      "94:\tlearn: 1.6958108\ttotal: 6.67s\tremaining: 7.37s\n",
      "95:\tlearn: 1.6954299\ttotal: 6.76s\tremaining: 7.32s\n",
      "96:\tlearn: 1.6949429\ttotal: 6.83s\tremaining: 7.25s\n",
      "97:\tlearn: 1.6944954\ttotal: 6.89s\tremaining: 7.17s\n",
      "98:\tlearn: 1.6941034\ttotal: 6.95s\tremaining: 7.09s\n",
      "99:\tlearn: 1.6935061\ttotal: 7.02s\tremaining: 7.02s\n",
      "100:\tlearn: 1.6931921\ttotal: 7.07s\tremaining: 6.93s\n",
      "101:\tlearn: 1.6927284\ttotal: 7.13s\tremaining: 6.85s\n",
      "102:\tlearn: 1.6924687\ttotal: 7.18s\tremaining: 6.76s\n",
      "103:\tlearn: 1.6920605\ttotal: 7.23s\tremaining: 6.67s\n",
      "104:\tlearn: 1.6918054\ttotal: 7.3s\tremaining: 6.6s\n",
      "105:\tlearn: 1.6913663\ttotal: 7.36s\tremaining: 6.53s\n",
      "106:\tlearn: 1.6905380\ttotal: 7.41s\tremaining: 6.44s\n",
      "107:\tlearn: 1.6900069\ttotal: 7.48s\tremaining: 6.37s\n",
      "108:\tlearn: 1.6896869\ttotal: 7.54s\tremaining: 6.3s\n",
      "109:\tlearn: 1.6894532\ttotal: 7.6s\tremaining: 6.21s\n",
      "110:\tlearn: 1.6891707\ttotal: 7.65s\tremaining: 6.13s\n",
      "111:\tlearn: 1.6888961\ttotal: 7.72s\tremaining: 6.06s\n",
      "112:\tlearn: 1.6884857\ttotal: 7.78s\tremaining: 5.99s\n",
      "113:\tlearn: 1.6879400\ttotal: 7.82s\tremaining: 5.9s\n",
      "114:\tlearn: 1.6876710\ttotal: 7.86s\tremaining: 5.81s\n",
      "115:\tlearn: 1.6872828\ttotal: 7.9s\tremaining: 5.72s\n",
      "116:\tlearn: 1.6868653\ttotal: 7.95s\tremaining: 5.64s\n",
      "117:\tlearn: 1.6865153\ttotal: 7.99s\tremaining: 5.55s\n",
      "118:\tlearn: 1.6862847\ttotal: 8.02s\tremaining: 5.46s\n",
      "119:\tlearn: 1.6854709\ttotal: 8.06s\tremaining: 5.38s\n",
      "120:\tlearn: 1.6848385\ttotal: 8.1s\tremaining: 5.29s\n",
      "121:\tlearn: 1.6846769\ttotal: 8.14s\tremaining: 5.2s\n",
      "122:\tlearn: 1.6844344\ttotal: 8.19s\tremaining: 5.13s\n",
      "123:\tlearn: 1.6840480\ttotal: 8.23s\tremaining: 5.04s\n",
      "124:\tlearn: 1.6837119\ttotal: 8.27s\tremaining: 4.96s\n",
      "125:\tlearn: 1.6833765\ttotal: 8.32s\tremaining: 4.89s\n",
      "126:\tlearn: 1.6830928\ttotal: 8.38s\tremaining: 4.81s\n",
      "127:\tlearn: 1.6827327\ttotal: 8.43s\tremaining: 4.74s\n",
      "128:\tlearn: 1.6825180\ttotal: 8.47s\tremaining: 4.66s\n",
      "129:\tlearn: 1.6819049\ttotal: 8.52s\tremaining: 4.59s\n",
      "130:\tlearn: 1.6815356\ttotal: 8.57s\tremaining: 4.51s\n",
      "131:\tlearn: 1.6812538\ttotal: 8.61s\tremaining: 4.44s\n",
      "132:\tlearn: 1.6809979\ttotal: 8.65s\tremaining: 4.36s\n",
      "133:\tlearn: 1.6807577\ttotal: 8.69s\tremaining: 4.28s\n",
      "134:\tlearn: 1.6802552\ttotal: 8.74s\tremaining: 4.21s\n",
      "135:\tlearn: 1.6796313\ttotal: 8.79s\tremaining: 4.14s\n",
      "136:\tlearn: 1.6792933\ttotal: 8.84s\tremaining: 4.06s\n",
      "137:\tlearn: 1.6789410\ttotal: 8.91s\tremaining: 4s\n",
      "138:\tlearn: 1.6780473\ttotal: 8.96s\tremaining: 3.93s\n",
      "139:\tlearn: 1.6776754\ttotal: 9.01s\tremaining: 3.86s\n",
      "140:\tlearn: 1.6774213\ttotal: 9.06s\tremaining: 3.79s\n",
      "141:\tlearn: 1.6771013\ttotal: 9.11s\tremaining: 3.72s\n",
      "142:\tlearn: 1.6765634\ttotal: 9.17s\tremaining: 3.66s\n",
      "143:\tlearn: 1.6762756\ttotal: 9.22s\tremaining: 3.59s\n",
      "144:\tlearn: 1.6760565\ttotal: 9.29s\tremaining: 3.52s\n",
      "145:\tlearn: 1.6758775\ttotal: 9.34s\tremaining: 3.46s\n",
      "146:\tlearn: 1.6755575\ttotal: 9.4s\tremaining: 3.39s\n",
      "147:\tlearn: 1.6753466\ttotal: 9.45s\tremaining: 3.32s\n",
      "148:\tlearn: 1.6751530\ttotal: 9.5s\tremaining: 3.25s\n",
      "149:\tlearn: 1.6746711\ttotal: 9.55s\tremaining: 3.18s\n",
      "150:\tlearn: 1.6744222\ttotal: 9.6s\tremaining: 3.11s\n",
      "151:\tlearn: 1.6739005\ttotal: 9.63s\tremaining: 3.04s\n",
      "152:\tlearn: 1.6734829\ttotal: 9.67s\tremaining: 2.97s\n",
      "153:\tlearn: 1.6730543\ttotal: 9.72s\tremaining: 2.9s\n",
      "154:\tlearn: 1.6726200\ttotal: 9.77s\tremaining: 2.84s\n",
      "155:\tlearn: 1.6724144\ttotal: 9.85s\tremaining: 2.78s\n",
      "156:\tlearn: 1.6721907\ttotal: 9.92s\tremaining: 2.71s\n",
      "157:\tlearn: 1.6718459\ttotal: 9.99s\tremaining: 2.66s\n",
      "158:\tlearn: 1.6715723\ttotal: 10.1s\tremaining: 2.6s\n",
      "159:\tlearn: 1.6712344\ttotal: 10.2s\tremaining: 2.54s\n",
      "160:\tlearn: 1.6710214\ttotal: 10.3s\tremaining: 2.48s\n",
      "161:\tlearn: 1.6708764\ttotal: 10.3s\tremaining: 2.42s\n",
      "162:\tlearn: 1.6705764\ttotal: 10.4s\tremaining: 2.37s\n"
     ]
    },
    {
     "name": "stdout",
     "output_type": "stream",
     "text": [
      "163:\tlearn: 1.6703485\ttotal: 10.5s\tremaining: 2.31s\n",
      "164:\tlearn: 1.6702294\ttotal: 10.6s\tremaining: 2.25s\n",
      "165:\tlearn: 1.6700340\ttotal: 10.7s\tremaining: 2.18s\n",
      "166:\tlearn: 1.6695358\ttotal: 10.7s\tremaining: 2.12s\n",
      "167:\tlearn: 1.6692077\ttotal: 10.8s\tremaining: 2.05s\n",
      "168:\tlearn: 1.6688600\ttotal: 10.8s\tremaining: 1.99s\n",
      "169:\tlearn: 1.6685567\ttotal: 10.9s\tremaining: 1.92s\n",
      "170:\tlearn: 1.6681874\ttotal: 10.9s\tremaining: 1.86s\n",
      "171:\tlearn: 1.6679852\ttotal: 11s\tremaining: 1.79s\n",
      "172:\tlearn: 1.6677292\ttotal: 11.1s\tremaining: 1.73s\n",
      "173:\tlearn: 1.6672766\ttotal: 11.1s\tremaining: 1.66s\n",
      "174:\tlearn: 1.6668317\ttotal: 11.2s\tremaining: 1.6s\n",
      "175:\tlearn: 1.6664066\ttotal: 11.2s\tremaining: 1.53s\n",
      "176:\tlearn: 1.6661252\ttotal: 11.3s\tremaining: 1.47s\n",
      "177:\tlearn: 1.6659080\ttotal: 11.4s\tremaining: 1.41s\n",
      "178:\tlearn: 1.6657168\ttotal: 11.4s\tremaining: 1.34s\n",
      "179:\tlearn: 1.6654155\ttotal: 11.5s\tremaining: 1.28s\n",
      "180:\tlearn: 1.6652454\ttotal: 11.6s\tremaining: 1.21s\n",
      "181:\tlearn: 1.6649495\ttotal: 11.6s\tremaining: 1.15s\n",
      "182:\tlearn: 1.6646597\ttotal: 11.7s\tremaining: 1.08s\n",
      "183:\tlearn: 1.6643298\ttotal: 11.7s\tremaining: 1.02s\n",
      "184:\tlearn: 1.6641012\ttotal: 11.8s\tremaining: 955ms\n",
      "185:\tlearn: 1.6639749\ttotal: 11.8s\tremaining: 889ms\n",
      "186:\tlearn: 1.6635568\ttotal: 11.9s\tremaining: 824ms\n",
      "187:\tlearn: 1.6631600\ttotal: 11.9s\tremaining: 760ms\n",
      "188:\tlearn: 1.6628398\ttotal: 11.9s\tremaining: 695ms\n",
      "189:\tlearn: 1.6625772\ttotal: 12s\tremaining: 631ms\n",
      "190:\tlearn: 1.6622609\ttotal: 12s\tremaining: 567ms\n",
      "191:\tlearn: 1.6620091\ttotal: 12.1s\tremaining: 503ms\n",
      "192:\tlearn: 1.6618474\ttotal: 12.1s\tremaining: 440ms\n",
      "193:\tlearn: 1.6613372\ttotal: 12.2s\tremaining: 376ms\n",
      "194:\tlearn: 1.6610433\ttotal: 12.2s\tremaining: 314ms\n",
      "195:\tlearn: 1.6608621\ttotal: 12.3s\tremaining: 251ms\n",
      "196:\tlearn: 1.6606934\ttotal: 12.4s\tremaining: 188ms\n",
      "197:\tlearn: 1.6604978\ttotal: 12.4s\tremaining: 125ms\n",
      "198:\tlearn: 1.6602622\ttotal: 12.4s\tremaining: 62.5ms\n",
      "199:\tlearn: 1.6599869\ttotal: 12.5s\tremaining: 0us\n"
     ]
    },
    {
     "data": {
      "text/plain": [
       "0.9425257742976305"
      ]
     },
     "execution_count": 169,
     "metadata": {},
     "output_type": "execute_result"
    }
   ],
   "source": [
    "catBoostmodel2 = CatBoostRegressor(verbose=1, n_estimators=200)\n",
    "catBoostmodel2.fit(X_train, Y_train)\n",
    "catBoostmodel2.score(X_test, Y_test)"
   ]
  },
  {
   "cell_type": "markdown",
   "metadata": {},
   "source": [
    "The accuracy is 94.25%"
   ]
  },
  {
   "cell_type": "markdown",
   "metadata": {},
   "source": [
    "3. The n_estimators is decreased to 50 and tested."
   ]
  },
  {
   "cell_type": "code",
   "execution_count": 171,
   "metadata": {},
   "outputs": [
    {
     "data": {
      "text/plain": [
       "0.9400793544169245"
      ]
     },
     "execution_count": 171,
     "metadata": {},
     "output_type": "execute_result"
    }
   ],
   "source": [
    "catBoostmodel3 = CatBoostRegressor(verbose=0, n_estimators=50)\n",
    "catBoostmodel3.fit(X_train, Y_train)\n",
    "catBoostmodel3.score(X_test, Y_test)"
   ]
  },
  {
   "cell_type": "markdown",
   "metadata": {},
   "source": [
    "The accuracy is 94 %"
   ]
  },
  {
   "cell_type": "markdown",
   "metadata": {},
   "source": [
    "### Predicting The Cab Price "
   ]
  },
  {
   "cell_type": "markdown",
   "metadata": {},
   "source": [
    "The source, destination,product_id , surge_multiplier,name,apparentTemperatureLow and windGust  are the required input fields for the price detection . Therefore trying to displaying the unique values of the required fields which the user can enter in the prompt."
   ]
  },
  {
   "cell_type": "markdown",
   "metadata": {},
   "source": [
    "The source and destination are stored in one dataframe as they have same size . The product_id and surge_multiplier are stored in the other dataframe as they have same size and the name , distance fields, apparentTemperatureLow and windGust are of different sizes so displaying it seperately."
   ]
  },
  {
   "cell_type": "code",
   "execution_count": 125,
   "metadata": {},
   "outputs": [
    {
     "name": "stdout",
     "output_type": "stream",
     "text": [
      "    source  destination\n",
      "0        5            7\n",
      "1        0            8\n",
      "2        6           11\n",
      "3        7            5\n",
      "4        1            9\n",
      "5        2            3\n",
      "6        3           10\n",
      "7        9            1\n",
      "8       10            0\n",
      "9       11            6\n",
      "10       4            4\n",
      "11       8            2\n"
     ]
    }
   ],
   "source": [
    "sourceDestData = {'source':pd.unique(new_dataset['source']),'destination':pd.unique(new_dataset['destination'])}\n",
    "sourceDestDataframe = pd.DataFrame(sourceDestData)\n",
    "print (sourceDestDataframe)"
   ]
  },
  {
   "cell_type": "code",
   "execution_count": 126,
   "metadata": {},
   "outputs": [
    {
     "name": "stdout",
     "output_type": "stream",
     "text": [
      "   product_id  surge_multiplier\n",
      "0           6              1.00\n",
      "1           4              1.25\n",
      "2           5              2.00\n",
      "3           2              2.50\n",
      "4           1              1.75\n",
      "5           0              1.50\n",
      "6           3              3.00\n"
     ]
    }
   ],
   "source": [
    "prodIdsurge = {'product_id':pd.unique(new_dataset['product_id']),'surge_multiplier':pd.unique(new_dataset['surge_multiplier'])}\n",
    "prodIdsurgeDataframe = pd.DataFrame(prodIdsurge)\n",
    "print (prodIdsurgeDataframe)"
   ]
  },
  {
   "cell_type": "code",
   "execution_count": 127,
   "metadata": {},
   "outputs": [
    {
     "data": {
      "text/plain": [
       "array([0.44, 1.08, 1.11, 0.72, 2.48, 3.24, 2.94, 1.76, 0.71, 1.23, 1.16,\n",
       "       2.67, 3.39, 2.82, 2.49, 3.07, 1.57, 3.2 , 3.61, 3.05, 1.75, 2.36,\n",
       "       2.32, 1.02, 1.17, 4.43, 1.4 , 1.01, 2.84, 1.81, 1.3 , 2.44, 3.04,\n",
       "       2.59, 3.25, 2.66, 3.26, 2.39, 2.81, 3.18, 2.63, 3.14, 1.79, 2.16,\n",
       "       1.39, 1.97, 2.92, 2.14, 0.91, 2.58, 3.23, 3.02, 0.64, 2.38, 0.8 ,\n",
       "       2.61, 2.07, 3.45, 1.35, 2.8 , 1.03, 3.35, 2.93, 1.07, 3.17, 1.2 ,\n",
       "       1.58, 1.71, 1.21, 1.61, 3.3 , 0.55, 4.42, 1.45, 0.61, 0.49, 0.39,\n",
       "       3.8 , 2.46, 2.34, 2.56, 4.23, 1.56, 2.35, 3.37, 1.52, 2.05, 2.15,\n",
       "       1.26, 1.5 , 4.76, 1.34, 3.41, 1.33, 2.19, 1.04, 1.22, 1.09, 0.54,\n",
       "       2.09, 1.66, 1.92, 2.33, 2.25, 2.88, 3.42, 1.41, 4.51, 0.56, 3.47,\n",
       "       4.09, 2.73, 3.19, 0.65, 2.78, 1.  , 2.62, 2.77, 2.47, 1.43, 3.1 ,\n",
       "       1.89, 2.3 , 4.31, 1.06, 1.64, 1.86, 4.1 , 1.74, 2.31, 2.83, 3.48,\n",
       "       1.78, 0.52, 0.92, 3.08, 0.43, 5.33, 4.5 , 0.46, 2.91, 1.14, 3.22,\n",
       "       1.69, 0.81, 1.36, 1.73, 4.61, 2.68, 2.03, 4.73, 2.27, 1.25, 3.43,\n",
       "       2.72, 3.15, 0.59, 0.53, 3.44, 2.17, 2.96, 0.76, 3.79, 2.43, 2.5 ,\n",
       "       4.55, 2.12, 2.  , 5.32, 4.39, 0.63, 0.42, 1.47, 2.86, 3.12, 2.85,\n",
       "       1.49, 0.3 , 1.59, 1.46, 3.06, 5.56, 2.37, 2.41, 1.37, 3.16, 0.73,\n",
       "       4.48, 1.7 , 2.29, 2.79, 0.74, 2.24, 7.34, 4.3 , 1.19, 1.55, 0.62,\n",
       "       2.4 , 4.54, 3.28, 2.54, 0.99, 2.42, 3.53, 2.98, 4.44, 1.1 , 0.88,\n",
       "       2.75, 4.59, 1.8 , 1.72, 1.05, 1.91, 4.69, 1.28, 1.54, 2.9 , 2.13,\n",
       "       3.21, 0.86, 2.1 , 2.57, 3.5 , 2.45, 1.38, 1.53, 1.44, 1.42, 2.99,\n",
       "       0.57, 2.04, 3.01, 0.68, 3.59, 2.53, 4.32, 3.03, 4.15, 2.01, 2.21,\n",
       "       1.15, 5.4 , 1.12, 1.24, 5.41, 4.57, 3.55, 2.89, 3.75, 2.7 , 1.9 ,\n",
       "       2.65, 2.74, 3.31, 2.87, 5.38, 4.68, 0.5 , 3.36, 0.48, 2.51, 0.94,\n",
       "       4.46, 4.13, 5.35, 4.72, 3.32, 5.31, 2.22, 7.46, 3.11, 1.93, 1.99,\n",
       "       1.94, 0.98, 1.87, 1.65, 3.29, 0.75, 3.46, 4.4 , 4.53, 2.2 , 0.95,\n",
       "       1.51, 6.26, 2.08, 0.84, 2.11, 1.27, 3.96, 1.13, 0.9 , 2.06, 1.32,\n",
       "       1.98, 1.67, 0.58, 1.31, 4.74, 2.02, 0.67, 4.17, 4.01, 1.77, 4.47,\n",
       "       0.45, 4.56, 7.2 , 1.88, 0.66, 4.58, 3.  , 0.97, 1.85, 3.49, 1.96,\n",
       "       1.48, 0.77, 2.26, 0.89, 5.34, 4.35, 4.94, 2.97, 1.63, 2.18, 0.6 ,\n",
       "       3.13, 3.27, 2.23, 4.45, 4.33, 2.69, 2.55, 2.95, 3.98, 4.19, 5.28,\n",
       "       0.78, 5.46, 4.  , 4.52, 1.82, 5.44, 3.99, 0.02, 1.95, 1.18, 1.68,\n",
       "       3.4 , 5.7 , 1.84, 3.52, 3.09, 4.2 , 4.8 , 3.58, 5.2 , 3.66, 3.7 ,\n",
       "       0.87, 4.49, 3.51, 5.21, 2.6 , 0.4 , 5.14, 4.77, 4.11, 2.52, 0.7 ,\n",
       "       4.37, 3.71, 4.6 , 4.12, 3.77, 4.25, 3.91, 4.14, 2.76, 5.42, 4.08,\n",
       "       4.41, 4.78, 4.75, 4.26, 0.12, 4.36, 4.18, 0.69, 2.28, 3.33, 0.03,\n",
       "       4.16, 2.71, 0.82, 1.62, 0.47, 4.34, 6.97, 0.93, 3.9 , 3.89, 3.95,\n",
       "       5.23, 4.22, 3.97, 5.45, 2.64, 3.68, 4.03, 0.51, 4.96, 1.83, 4.93,\n",
       "       3.54, 6.83, 3.64, 4.38, 6.27, 4.62, 4.66, 3.69, 6.91, 5.39, 7.19,\n",
       "       3.76, 0.85, 3.63, 3.34, 5.29, 0.79, 3.72, 3.65, 4.7 , 1.29, 7.04,\n",
       "       3.93, 4.21, 3.78, 4.29, 5.36, 5.27, 4.67, 0.83, 5.22, 3.74, 4.28,\n",
       "       5.13, 4.86, 4.65, 4.06, 5.24, 4.79, 5.37, 4.98, 3.67, 4.64, 5.25,\n",
       "       5.15, 4.05, 0.96, 3.85, 5.69, 4.24, 5.3 , 3.82, 7.24, 3.84, 4.27,\n",
       "       6.33, 4.95, 3.57, 3.83, 0.04, 5.1 , 6.03, 4.82, 5.09, 5.04, 5.12,\n",
       "       4.97, 3.73, 3.38, 0.35, 5.43, 1.6 , 0.38, 4.81, 5.17, 5.11, 5.16,\n",
       "       7.18, 7.5 , 7.25, 4.63, 3.88, 4.02, 5.02, 5.26, 4.71, 4.91, 4.9 ,\n",
       "       4.04, 4.07, 7.45, 3.94, 3.56, 4.84, 3.62, 0.17, 0.27, 3.81, 7.38,\n",
       "       0.29, 3.87, 4.83, 3.6 , 3.86, 5.19, 6.09, 7.62, 5.18, 3.92, 6.04,\n",
       "       6.  , 6.13, 5.47, 5.05, 6.14, 5.86, 5.66, 6.12, 4.89, 4.85, 5.01,\n",
       "       5.08, 0.41, 5.95, 5.  , 5.06, 7.36, 5.03, 4.87, 4.99, 7.86])"
      ]
     },
     "execution_count": 127,
     "metadata": {},
     "output_type": "execute_result"
    }
   ],
   "source": [
    "pd.unique(new_dataset['distance'])"
   ]
  },
  {
   "cell_type": "code",
   "execution_count": 128,
   "metadata": {},
   "outputs": [
    {
     "data": {
      "text/plain": [
       "array([1, 3, 2, 6, 0, 5, 4])"
      ]
     },
     "execution_count": 128,
     "metadata": {},
     "output_type": "execute_result"
    }
   ],
   "source": [
    "pd.unique(new_dataset['name'])"
   ]
  },
  {
   "cell_type": "code",
   "execution_count": 129,
   "metadata": {},
   "outputs": [
    {
     "data": {
      "text/plain": [
       "array([11.98,  7.33,  8.88,  3.38,  4.47, 14.86,  3.99,  3.22,  3.83,\n",
       "       19.97, 13.8 , 24.98,  2.01,  6.35,  5.23,  9.37,  7.48,  4.16,\n",
       "        3.98,  3.71,  8.45,  8.73, 12.76,  4.94,  2.38,  2.6 , 12.  ,\n",
       "       10.25, 12.72,  7.94, 13.28,  2.74,  4.34,  5.92,  5.3 , 16.24,\n",
       "       11.57,  3.39,  7.91,  9.4 ,  4.19, 10.88,  7.  ,  8.94,  4.57,\n",
       "        9.17, 11.6 , 13.65,  4.09, 12.43,  1.05, 27.25,  5.75,  4.84,\n",
       "        2.99,  3.6 , 13.  ,  8.19,  3.14,  7.2 ,  5.87, 22.28,  2.86,\n",
       "        8.23,  4.3 , 15.03,  4.75, 20.2 ,  2.98,  4.54,  4.21,  3.48,\n",
       "        4.79,  0.88, 22.48,  7.02,  7.16,  4.13, 14.9 ,  4.58,  2.53,\n",
       "       12.38,  4.28, 14.64,  3.97,  3.54, 11.14,  9.16,  5.9 ,  3.82,\n",
       "        9.44,  2.56, 11.54,  3.49, 25.17, 15.15, 12.02, 11.82,  9.33,\n",
       "       14.39, 15.18, 10.16, 26.56,  4.1 , 11.36, 12.21, 10.36,  9.7 ,\n",
       "        9.14,  6.32,  8.4 ,  4.08, 12.7 ,  6.98,  3.84,  6.69, 14.22,\n",
       "        5.28, 17.48,  3.25,  7.78, 11.71,  8.97,  3.73,  4.78,  3.62,\n",
       "       16.89,  7.56, 17.46,  6.66, 14.77,  6.57,  2.62, 10.54,  8.47,\n",
       "        2.25, 11.74,  4.95,  2.32,  3.46, 12.67,  9.67, 15.67,  2.87,\n",
       "       13.46,  2.49, 12.3 ,  6.95,  5.1 ,  8.53,  8.54,  2.78,  3.4 ,\n",
       "        8.16, 12.35, 11.55,  3.95,  4.06,  3.02,  2.44,  8.31,  9.01,\n",
       "        1.81,  3.2 , 24.43, 23.67,  5.17, 12.56,  8.99,  5.46,  7.42,\n",
       "        3.53, 10.51, 13.44, 14.5 , 15.17,  3.34,  3.7 ,  9.09,  5.77,\n",
       "       15.95,  7.86,  3.44, 11.58,  3.03,  4.37,  3.59,  8.22,  2.7 ,\n",
       "       13.93, 13.82,  9.68,  1.83, 11.22,  3.94, 17.15,  4.24,  4.03,\n",
       "        9.  ,  7.74,  3.5 ,  6.88,  5.62, 19.29,  5.  ,  6.51, 11.38,\n",
       "       17.68,  7.85,  8.96,  3.16,  5.27,  7.55,  6.73,  2.33,  8.43,\n",
       "        1.44, 25.75,  7.75,  8.3 ,  3.75,  2.59, 12.52,  3.9 ,  8.18,\n",
       "        4.05,  7.24,  2.37, 26.67, 11.31,  8.98,  5.47, 16.82, 15.7 ,\n",
       "        2.03, 15.23,  6.86, 20.61,  2.92,  5.34,  4.22,  2.45,  3.27,\n",
       "       12.36,  5.37,  7.01,  3.86, 15.07,  3.36,  2.09, 10.39,  8.6 ,\n",
       "       10.42,  3.07,  9.73,  5.84,  2.28,  3.29,  4.27, 22.45,  5.7 ,\n",
       "        6.83,  6.26,  3.78,  5.44,  7.11,  2.42,  6.25,  6.52, 22.33,\n",
       "        3.33, 18.45, 10.33,  8.48,  8.63, 23.96,  2.88,  6.6 ,  9.95,\n",
       "        9.48,  9.96, 11.4 ,  0.87,  2.73,  7.09,  0.8 ])"
      ]
     },
     "execution_count": 129,
     "metadata": {},
     "output_type": "execute_result"
    }
   ],
   "source": [
    "pd.unique(new_dataset['windGust'])"
   ]
  },
  {
   "cell_type": "code",
   "execution_count": 130,
   "metadata": {},
   "outputs": [
    {
     "data": {
      "text/plain": [
       "array([36.2 , 29.11, 12.04, 45.62, 28.1 , 32.25, 28.06, 24.61, 26.41,\n",
       "       29.97, 14.29, 36.7 , 35.18, 30.13, 11.99, 45.53, 38.58, 35.08,\n",
       "       28.21, 31.97, 35.23, 27.22, 32.12, 35.32, 47.25, 30.29, 34.85,\n",
       "       29.07, 30.36, 27.16, 12.3 , 31.87, 28.27, 38.56, 27.39, 31.82,\n",
       "       28.  , 35.22, 28.23, 14.48, 18.29, 45.61, 24.47, 31.91, 28.3 ,\n",
       "       45.69, 28.18, 45.44, 14.53, 27.95, 29.88, 27.76, 24.55, 37.08,\n",
       "       27.89, 35.69, 28.12, 38.71, 29.03, 28.72, 12.05, 36.61, 14.27,\n",
       "       28.11, 14.31, 12.12, 28.43, 45.64, 28.61, 38.98, 26.32, 26.2 ,\n",
       "       30.08, 27.72, 37.09, 38.78, 11.83, 28.19, 38.65, 30.03, 27.7 ,\n",
       "       11.82, 27.8 , 35.17, 38.72, 11.81, 35.55, 35.48, 26.3 , 27.64,\n",
       "       32.23, 27.26, 38.85, 35.6 , 27.2 , 38.59, 28.17, 37.23, 11.86,\n",
       "       30.19, 24.51, 15.9 , 27.77, 45.36, 27.23, 36.51, 11.84, 14.06,\n",
       "       15.33, 36.47, 29.98, 27.88, 35.27, 35.53, 35.05, 28.4 , 36.93,\n",
       "       14.28, 25.87, 29.29, 34.99, 34.73, 17.82, 35.39, 28.53, 14.44,\n",
       "       34.83, 19.19, 13.73, 19.4 , 27.41, 14.26, 27.99, 31.79, 39.27,\n",
       "       39.21])"
      ]
     },
     "execution_count": 130,
     "metadata": {},
     "output_type": "execute_result"
    }
   ],
   "source": [
    "pd.unique(new_dataset['apparentTemperatureLow'])"
   ]
  },
  {
   "cell_type": "code",
   "execution_count": 131,
   "metadata": {},
   "outputs": [
    {
     "name": "stdout",
     "output_type": "stream",
     "text": [
      "Enter the source 0\n",
      "Enter the destination  8\n",
      "Enter the distance 6\n",
      "Enter the surge_multiplier 1\n",
      "Enter the product_id 6\n",
      "Enter the name 1\n",
      "Enter the windGust 3.38\n",
      "Enter the apparentTemperatureLow 14.29\n"
     ]
    }
   ],
   "source": [
    "source = input(\"Enter the source \")\n",
    "destination = input(\"Enter the destination  \")\n",
    "distance = input(\"Enter the distance \")\n",
    "surge_multiplier = input(\"Enter the surge_multiplier \")\n",
    "product_id = input(\"Enter the product_id \")\n",
    "name = input(\"Enter the name \")\n",
    "windGust = input(\"Enter the windGust \")\n",
    "apparentTemperatureLow = input(\"Enter the apparentTemperatureLow \")"
   ]
  },
  {
   "cell_type": "code",
   "execution_count": 144,
   "metadata": {},
   "outputs": [
    {
     "name": "stdout",
     "output_type": "stream",
     "text": [
      "  source destination product_id name distance surge_multiplier windGust  \\\n",
      "0      0           8          6    1        6                1     3.38   \n",
      "\n",
      "  apparentTemperatureLow  \n",
      "0                  14.29  \n"
     ]
    }
   ],
   "source": [
    "pricePredictdict = {'source':[source],\n",
    "        'destination':[destination],\n",
    "        'product_id':[product_id],\n",
    "        'name':[name],\n",
    "        'distance':[distance],\n",
    "        'surge_multiplier':[surge_multiplier],\n",
    "        'windGust':[windGust],\n",
    "        'apparentTemperatureLow' : [apparentTemperatureLow]\n",
    "        }\n",
    "  \n",
    "df = pd.DataFrame(pricePredictdict)\n",
    "print (df)"
   ]
  },
  {
   "cell_type": "markdown",
   "metadata": {},
   "source": [
    "Trying with both the XGBRegression and CatBoostModel as their accuracy is almost similar."
   ]
  },
  {
   "cell_type": "code",
   "execution_count": 141,
   "metadata": {},
   "outputs": [
    {
     "name": "stdout",
     "output_type": "stream",
     "text": [
      "Predicted price is  [28]\n"
     ]
    }
   ],
   "source": [
    "xgbRMdf = df.astype({\"source\":\"int\",\"destination\":\"int\",\"product_id\":\"int\",\"name\":\"int\",\"distance\":\"float\",\"surge_multiplier\":\"int\",\"windGust\":\"float\",\"apparentTemperatureLow\":\"float\"})\n",
    "print(\"Predicted price is \",xgbRM.predict(xgbRMdf).astype(int))"
   ]
  },
  {
   "cell_type": "markdown",
   "metadata": {},
   "source": [
    "<b>XGBRegression model predicted value is 28 dollars.</b>"
   ]
  },
  {
   "cell_type": "code",
   "execution_count": 164,
   "metadata": {},
   "outputs": [
    {
     "name": "stdout",
     "output_type": "stream",
     "text": [
      "Predicted price is  [31]\n"
     ]
    }
   ],
   "source": [
    "catBoostmodeldf = df.astype({\"source\":\"int\",\"destination\":\"int\",\"product_id\":\"int\",\"name\":\"int\",\"distance\":\"float\",\"surge_multiplier\":\"int\",\"windGust\":\"float\",\"apparentTemperatureLow\":\"float\"})\n",
    "print(\"Predicted price is \",catBoostmodel.predict(df).astype(int))"
   ]
  },
  {
   "cell_type": "markdown",
   "metadata": {},
   "source": [
    "<b>CatBoostRegression model predicted value is 31 dollars.</b>"
   ]
  },
  {
   "cell_type": "markdown",
   "metadata": {},
   "source": [
    "## Results"
   ]
  },
  {
   "cell_type": "markdown",
   "metadata": {},
   "source": [
    "11 Regression Models are executed to obtain the best model. The experimental results of the various regression models are as follows:\n",
    "\n",
    "| Algorithm |Accuracy | Accuracy %| RMSE | \n",
    "| :- | :- | :- | :-: |\n",
    "| XGBRegressor | 0.9431381525158612 |94.31| 1.625082022065464 |\n",
    "| Linear Regressor | 0.4907387474850826 |49.07| 4.863345455515936 |\n",
    "| Stochastic Gradient Descent Regressor | 0.4667861362204472 |46.67| 4.976402723796845 |\n",
    "| Decision Tree Regressor | 0.8918129442702647 | 89.18| 2.2415707641123714 |\n",
    "| KNearestNeighbors Regressor | 0.8697640897784767 |86.97| 2.4594057133591916 |\n",
    "| Random Forest Regressor | 0.9295983512458552 |92.95| 1.8082406070216104 |\n",
    "| LGBM Regressor | 0.9411256598662165 | 94.11|1.6540333719872453 |\n",
    "| Gradient Boosting Regressor  | 0.9409808781649089 | 94.09| 1.6584189372739857 |\n",
    "| ElasticNet Regressor | 0.4086845227893885 |40.86| 5.240520521479743 |\n",
    "| BayesianRidge Regressor | 0.4907537047769507 |49.07| 4.863341531508956 |\n",
    "| CatBoost Regressor  | 0.9422306454428475 |94.22| 1.6447941506765476 |\n",
    "\n",
    "The accuracy of the algorithm is calculated using .score(X_test, Y_test) on all machine learning \n",
    "algorithms.\n",
    "The XGBRegressor is the best model and has accuracy of 0.9431381525158612 ie 94.31 % and Cat Boost Regressor is next best model and its accuracy is 0.9422306454428475 ie 94.22 %. \n",
    "\n",
    "#### Hyperparameters employed to fine-tune our XGBoost model.\n",
    "\n",
    "Experimenting with certain parameters such as eta=0.9,max_depth=9,min_child_weight=1.5 and colsample_bytree=0.9 the accuracy of the model increased to 0.944120381224934. After decreasing the parameters such as eta=0.8,max_depth=6,min_child_weight=1.3,colsample_bytree=0.8 the accuracy of the model decreased to 0.9436157637926712 .Later tried just increasing the eta = 1 and retained the rest of the parameters but the accuracy  decreased to 0.9434525682566232. Hence on increasing the eta the accuracy decreases and on increasing other parameters like max_depth ,min_child_weight and colsample_bytree the accuracy is increasing.\n",
    "\n",
    "#### Hyperparameters employed to fine-tune our CatBoost model.\n",
    "\n",
    "Experimenting with certain parameters such as verbose =0  and n_estimators= 200 the accuracy of the model increased to 0.9425257742976305 . On increasing the verbose to 1  and retaining the n_estimators = 200, the accuracy remained the same . On decreasing the n_estimators to 50 the accuracy decreased to 0.9400793544169245. Hence,with increase in the value of the n_estimators the accuracy increases in the CatBoost Model.\n",
    " \n",
    "\n",
    "####  Cab Prediction Results\n",
    "\n",
    "I have implemented the prediction of the cab fare based on the parameters like the source, destination,distance ,name, product_id,surge_multiplier,windGust and apparentTemperatureLow . The prediction is implemented using both the XGBoost model  and the CatBoost Model . The results for both the model is different . For the source = 0 , destination = 8,product_id = 6,name = 1,\n",
    "distance = 1.08,surge_multiplier = 1,windGust = 3.38 and apparentTemperatureLow =14.29  the price predicted was 28 dollars  for XGBoost and Catboost was 31 dollars. Since there is change in accuracy of the XGBoost and the Catboost the prediction values are different and the accuracy is more for the XGBoost model than the Catboost model and  the predicted price would be relatively correct with XGBoost model.\n",
    "\n"
   ]
  },
  {
   "cell_type": "markdown",
   "metadata": {},
   "source": [
    "## Conclusions"
   ]
  },
  {
   "cell_type": "markdown",
   "metadata": {},
   "source": [
    "### Difficulties :\n",
    "- Initially I was not aware of the label encoder and all the regression models was not able to recognize the name field which contained the car model details as it was string  and the regression model would only evaluate with numeric values.  I had to spend some time looking over the error information before I realized that I needed a label encoder to convert categorical data to numerical numbers.\n",
    "- The prediction of the price using input provided by the user was also challenging . The user input by default was taken as string  and the regression models only deals with number and not strings so it was erroring out . Later I converted each fields value to their respective datatypes like int or float datatype in the dataframe fields . Once convertion was done the prediction worked fine.\n",
    "\n",
    "### Knowledge Gained :\n",
    "\n",
    "- The accuracy of the model would increase if the number of features used for prediction would decrease and also the time taken with the reduced feature would be less than when implemented with the more features.\n",
    "- Recursive Feature Elimination(RFE) would help in the elemenation of the unnecessary feature and would only retains the required features .By using XGBRegressor as estimator the RFE reduced the features to 12 and the model with good accuracy was achieved.\n",
    "- XGBRegressor is the best model  among the other  models as it has greater accuracy among the rest of the models.\n",
    "- The random_state field which used while spliting the train and test data also affected the accuracy of the model, when the random_state = 40 the accuracy is less compared to the random_state =10 . This was tested using the XGBoost model and the accuracy was 0.940223816918239 when the random_state =40 and accuracy was 0.9431381525158612 when the random_state =10.\n",
    "- For greater accuracy the scattered plot is in  high positive correlation and less scattered than in the case of lower accuracy were the plot is more scattered and in low positive correlation. The low positive correlation was observed in Linear Regressor,Stochastic Gradient Descent Regressor ,ElasticNet Regressor and BayesianRidge Regressor. The high positive correlation was observed in the XGBRegressor,Decision Tree Regressor,KNearestNeighbors Regressor,Random Forest Regressor,LGBM Regressor,Gradient Boosting Regressor and CatBoost Regressor.\n",
    "- The RMSE values are high for the models with less accuracy and the RMSE values are low for the regression models with highest accuracy. The XGBRegressor has the lowest RMSE of 1.625082022065464 and the ElasticNet Regressor has the highest RMSE of 5.240520521479743. Lower the RMSE value  better is the model performance.\n",
    "- The two best models were used to predit the price of the cab and we noticed for the same parameters the predicted values are different as the accuracy of the models are different.\n",
    "- The predicted prices are at different frequency count for different algorithm when the histgram is ploted for the predicted prices."
   ]
  },
  {
   "cell_type": "markdown",
   "metadata": {},
   "source": [
    "### References"
   ]
  },
  {
   "cell_type": "markdown",
   "metadata": {},
   "source": [
    "[1] Brodeur, Abel, and Kerry Nield. \"An empirical analysis of taxi, Lyft and Uber rides: Evidence from weather shocks in NYC.\" Journal of Economic Behavior & Organization 152 (2018): 1-16.\n",
    "\n",
    "[2] Sina Shokoohyar, Ahmad Sobhani, Anae Sobhani.\"Impacts of trip characteristics and weather condition on ride-sourcing network: Evidence from Uber and Lyft.\"Research in Transportation Economics,\n",
    "Volume 80,2020,100820,ISSN 0739-8859\n",
    "\n",
    "[3] P. Sindhu, D. Gupta, S. Meghana and A. K. M, \"Modeling Uber Data for Predicting Features Responsible for Price Fluctuations,\" 2022 IEEE Delhi Section Conference (DELCON), 2022, pp. 1-7, doi: 10.1109/DELCON54057.2022.9752864.\n",
    "\n",
    "[4] Chao, Junzhi. \"Modeling and Analysis of Uber’s Rider Pricing.\" 2019 International Conference on Economic Management and Cultural Industry (ICEMCI 2019). Atlantis Press, 2019.\n",
    "\n",
    "[5] The Kaggle dataset https://www.kaggle.com/datasets/brllrb/uber-and-lyft-dataset-boston-ma?select=rideshare_kaggle.csv\n",
    "\n",
    "[6] Jiao, Junfeng. \"Investigating Uber price surges during a special event in Austin, TX.\" Research in Transportation Business & Management 29 (2018): 101-107."
   ]
  },
  {
   "cell_type": "code",
   "execution_count": 2,
   "metadata": {
    "ExecuteTime": {
     "end_time": "2022-10-11T20:24:09.713104Z",
     "start_time": "2022-10-11T20:24:09.678375Z"
    }
   },
   "outputs": [
    {
     "name": "stdout",
     "output_type": "stream",
     "text": [
      "Word count for file FinalProjectReport.ipynb is 3592\n"
     ]
    }
   ],
   "source": [
    "import io\n",
    "import nbformat\n",
    "import glob\n",
    "nbfile = glob.glob('FinalProjectReport.ipynb')\n",
    "if len(nbfile) > 1:\n",
    "    print('More than one ipynb file. Using the first one.  nbfile=', nbfile)\n",
    "with io.open(nbfile[0], 'r', encoding='utf-8') as f:\n",
    "    nb = nbformat.read(f, nbformat.NO_CONVERT)\n",
    "word_count = 0\n",
    "for cell in nb.cells:\n",
    "    if cell.cell_type == \"markdown\":\n",
    "        word_count += len(cell['source'].replace('#', '').lstrip().split(' '))\n",
    "print('Word count for file', nbfile[0], 'is', word_count)"
   ]
  },
  {
   "cell_type": "code",
   "execution_count": null,
   "metadata": {},
   "outputs": [],
   "source": []
  }
 ],
 "metadata": {
  "kernelspec": {
   "display_name": "Python 3 (ipykernel)",
   "language": "python",
   "name": "python3"
  },
  "language_info": {
   "codemirror_mode": {
    "name": "ipython",
    "version": 3
   },
   "file_extension": ".py",
   "mimetype": "text/x-python",
   "name": "python",
   "nbconvert_exporter": "python",
   "pygments_lexer": "ipython3",
   "version": "3.9.12"
  },
  "toc": {
   "base_numbering": 1,
   "nav_menu": {},
   "number_sections": true,
   "sideBar": true,
   "skip_h1_title": false,
   "title_cell": "Table of Contents",
   "title_sidebar": "Contents",
   "toc_cell": false,
   "toc_position": {},
   "toc_section_display": true,
   "toc_window_display": false
  }
 },
 "nbformat": 4,
 "nbformat_minor": 1
}
